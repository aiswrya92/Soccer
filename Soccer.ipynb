{
 "cells": [
  {
   "cell_type": "code",
   "execution_count": 5,
   "metadata": {
    "collapsed": false
   },
   "outputs": [],
   "source": [
    "import sqlite3\n",
    "import pandas as pd\n",
    "\n",
    "# Create a SQL connection to our SQLite database\n",
    "con = sqlite3.connect(\"soccerdata.sqlite\")\n",
    "\n",
    "cur = con.cursor()\n",
    "\n",
    "match =  pd.read_sql_query(\"SELECT * FROM Match\", con)\n",
    "country =  pd.read_sql_query(\"SELECT * FROM Country\", con)\n",
    "league =  pd.read_sql_query(\"SELECT * FROM League\", con)\n",
    "player =  pd.read_sql_query(\"SELECT * FROM Player\", con)\n",
    "team =  pd.read_sql_query(\"SELECT * FROM Team\", con)\n",
    "teamAttributes =  pd.read_sql_query(\"SELECT * FROM Team_Attributes\", con)\n",
    "\n",
    "# verify that result of SQL query is stored in the dataframe\n",
    "#print(df.head())\n",
    "\n",
    "#Be sure to close the connection.\n",
    "con.close()"
   ]
  },
  {
   "cell_type": "code",
   "execution_count": null,
   "metadata": {
    "collapsed": true
   },
   "outputs": [],
   "source": []
  }
 ],
 "metadata": {
  "anaconda-cloud": {},
  "kernelspec": {
   "display_name": "Python [conda root]",
   "language": "python",
   "name": "conda-root-py"
  },
  "language_info": {
   "codemirror_mode": {
    "name": "ipython",
    "version": 3
   },
   "file_extension": ".py",
   "mimetype": "text/x-python",
   "name": "python",
   "nbconvert_exporter": "python",
   "pygments_lexer": "ipython3",
   "version": "3.5.2"
  }
 },
 "nbformat": 4,
 "nbformat_minor": 1
}
