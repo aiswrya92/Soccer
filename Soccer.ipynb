{
 "cells": [
  {
   "cell_type": "code",
   "execution_count": 1,
   "metadata": {
    "collapsed": true
   },
   "outputs": [],
   "source": [
    "from sklearn import svm \n",
    "from sklearn.model_selection import cross_val_score\n",
    "from sklearn.svm import LinearSVC\n",
    "import numpy as np\n",
    "import pandas as pd\n",
    "import matplotlib.pyplot as plt\n",
    "import sqlite3\n",
    "%matplotlib inline\n",
    "\n",
    "#tree\n",
    "from sklearn import tree\n",
    "from sklearn.ensemble import BaggingClassifier\n",
    "from sklearn.ensemble import RandomForestClassifier\n",
    "from sklearn.ensemble import AdaBoostClassifier\n",
    "from sklearn.model_selection import train_test_split\n",
    "from sklearn.model_selection import cross_val_score\n",
    "\n",
    "from IPython.display import Image \n",
    "from IPython.display import IFrame \n",
    "import pydot_ng as pydot\n",
    "\n",
    "import warnings\n",
    "warnings.simplefilter(\"ignore\")"
   ]
  },
  {
   "cell_type": "code",
   "execution_count": 2,
   "metadata": {
    "collapsed": false
   },
   "outputs": [],
   "source": [
    "#read the data\n",
    "match = pd.read_csv(\"DataSetForClassification.csv\")\n"
   ]
  },
  {
   "cell_type": "code",
   "execution_count": 3,
   "metadata": {
    "collapsed": false
   },
   "outputs": [
    {
     "data": {
      "text/plain": [
       "Index(['Unnamed: 0', 'Season', 'Date', 'Home_Team_ID', 'Away_Team_ID',\n",
       "       'Home_Goals', 'Away_Goals', 'home_player_1', 'home_player_2',\n",
       "       'home_player_3', 'home_player_4', 'home_player_5', 'home_player_6',\n",
       "       'home_player_7', 'home_player_8', 'home_player_9', 'home_player_10',\n",
       "       'home_player_11', 'away_player_1', 'away_player_2', 'away_player_3',\n",
       "       'away_player_4', 'away_player_5', 'away_player_6', 'away_player_7',\n",
       "       'away_player_8', 'away_player_9', 'away_player_10', 'away_player_11',\n",
       "       'HomeTeamRating', 'AwayTeamRating', 'HomeShortPass', 'AwayShortPass',\n",
       "       'HomeLongPass', 'AwayLongPass', 'HomeFreeKickAccuracy',\n",
       "       'AwayFreeKickAccuracy', 'HomeBallControl', 'AwayBallControl',\n",
       "       'HomeSprintSpeed', 'AwaySprintSpeed', 'HomeShotPower', 'AwayShotPower',\n",
       "       'HomeInterception', 'AwayInterception', 'HomePenalties',\n",
       "       'AwayPenalties', 'HomeStandingTackle', 'AwayStandingTackle',\n",
       "       'HomeSlindingTackle', 'AwaySlindingTackle', 'Home Support',\n",
       "       'Away Support', 'Home Age', 'Away Age', 'HomeTeamWins_Home',\n",
       "       'HomeTeamWins_Away', 'AwayTeamWins_Home', 'AwayTeamWins_Away',\n",
       "       'HomeVsAway_Home', 'HomeVsAway_Away', 'HomebuildUpPlaySpeed',\n",
       "       'HomebuildUpPlayDribbling', 'HomebuildUpPlayPassing',\n",
       "       'HomechanceCreationPassing', 'HomechanceCreationCrossing',\n",
       "       'HomechanceCreationShooting', 'HomedefencePressure',\n",
       "       'HomedefenceAggression', 'HomedefenceTeamWidth', 'AwaybuildUpPlaySpeed',\n",
       "       'AwaybuildUpPlayDribbling', 'AwaybuildUpPlayPassing',\n",
       "       'AwaychanceCreationPassing', 'AwaychanceCreationCrossing',\n",
       "       'AwaychanceCreationShooting', 'AwaydefencePressure',\n",
       "       'AwaydefenceAggression', 'AwaydefenceTeamWidth', 'Outcome'],\n",
       "      dtype='object')"
      ]
     },
     "execution_count": 3,
     "metadata": {},
     "output_type": "execute_result"
    }
   ],
   "source": [
    "match.columns"
   ]
  },
  {
   "cell_type": "code",
   "execution_count": 4,
   "metadata": {
    "collapsed": false
   },
   "outputs": [],
   "source": [
    "#drop the columns that won't be used for prediction\n",
    "match.drop(\"Unnamed: 0\", axis = 1, inplace = True)\n",
    "match.drop(\"Home_Goals\", axis = 1, inplace = True)\n",
    "match.drop(\"Away_Goals\", axis = 1, inplace = True)\n",
    "match.drop(\"HomeVsAway_Home\", axis = 1, inplace = True)\n",
    "match.drop(\"HomeVsAway_Away\", axis = 1, inplace = True)\n",
    "match.drop(match.ix[:, \"home_player_1\": \"away_player_11\"], axis = 1, inplace = True)"
   ]
  },
  {
   "cell_type": "code",
   "execution_count": 14,
   "metadata": {
    "collapsed": false
   },
   "outputs": [
    {
     "name": "stdout",
     "output_type": "stream",
     "text": [
      "233\n",
      "0.386842105263\n"
     ]
    }
   ],
   "source": [
    "#split the data into training and validation set\n",
    "#season 2008-09 to 2014-15 will be the training data\n",
    "#we will predict the outcome of the matches in 2015-16\n",
    "#train = match.loc[match[\"Season\"] != \"2015/2016\",]\n",
    "train = match.loc[~match[\"Season\"].isin([\"\", \"2015/2016\"]),]\n",
    "validation = match.loc[match[\"Season\"] == \"2015/2016\",]\n",
    "\n",
    "#trees\n",
    "X = train.loc[:, \"HomeTeamRating\":\"AwaydefenceTeamWidth\"]\n",
    "Y =  train['Outcome']\n",
    "clf = tree.DecisionTreeClassifier()\n",
    "clf = clf.fit(X,Y)\n",
    "\n",
    "#predict - try an out of sample prediction\n",
    "X = validation.ix[:, \"HomeTeamRating\":\"AwaydefenceTeamWidth\"]\n",
    "Y = validation['Outcome']\n",
    "\n",
    "validation['prediction'] = clf.predict(X)\n",
    "\n",
    "#prediction errors\n",
    "print((validation['prediction'] != validation['Outcome']).sum())\n",
    "\n",
    "#accuracy\n",
    "print((validation['prediction'] == validation['Outcome']).sum() / len(validation['Outcome']))"
   ]
  },
  {
   "cell_type": "code",
   "execution_count": 15,
   "metadata": {
    "collapsed": false
   },
   "outputs": [
    {
     "name": "stdout",
     "output_type": "stream",
     "text": [
      "212\n",
      "0.442105263158\n"
     ]
    }
   ],
   "source": [
    "#random forest on train data\n",
    "X = train.ix[:, \"HomeTeamRating\":\"AwaydefenceTeamWidth\"]\n",
    "Y =  train['Outcome']\n",
    "clf_rf = RandomForestClassifier(max_features=\"log2\")\n",
    "clf_rf = clf_rf.fit(X, Y)\n",
    "clf_rf_scores = cross_val_score(clf_rf, X, Y, cv=5)\n",
    "\n",
    "#try an out of sample prediction\n",
    "X = validation.ix[:, \"HomeTeamRating\":\"AwaydefenceTeamWidth\"]\n",
    "Y = validation['Outcome']\n",
    "validation['prediction'] = clf_rf.predict(X)\n",
    "\n",
    "#prediction errors\n",
    "print((validation['prediction'] != validation['Outcome']).sum())\n",
    "\n",
    "#accuracy\n",
    "print((validation['prediction'] == validation['Outcome']).sum() / len(validation['Outcome']))"
   ]
  },
  {
   "cell_type": "code",
   "execution_count": 16,
   "metadata": {
    "collapsed": false
   },
   "outputs": [
    {
     "name": "stdout",
     "output_type": "stream",
     "text": [
      "223\n",
      "0.413157894737\n"
     ]
    }
   ],
   "source": [
    "#try boosting\n",
    "X = train.ix[:, \"HomeTeamRating\":\"AwaydefenceTeamWidth\"]\n",
    "Y =  train['Outcome']\n",
    "clf = AdaBoostClassifier()\n",
    "clf = clf.fit(X,Y)\n",
    "clf.score(X,Y)\n",
    "\n",
    "#try an out of sample prediction\n",
    "X = validation.ix[:, \"HomeTeamRating\":\"AwaydefenceTeamWidth\"]\n",
    "Y = validation['Outcome']\n",
    "validation['prediction'] = clf.predict(X)\n",
    "\n",
    "#prediction errors\n",
    "print((validation['prediction'] != validation['Outcome']).sum())\n",
    "\n",
    "#accuracy\n",
    "print((validation['prediction'] == validation['Outcome']).sum() / len(validation['Outcome']))"
   ]
  },
  {
   "cell_type": "code",
   "execution_count": null,
   "metadata": {
    "collapsed": true
   },
   "outputs": [],
   "source": []
  }
 ],
 "metadata": {
  "anaconda-cloud": {},
  "kernelspec": {
   "display_name": "Python [conda root]",
   "language": "python",
   "name": "conda-root-py"
  },
  "language_info": {
   "codemirror_mode": {
    "name": "ipython",
    "version": 3
   },
   "file_extension": ".py",
   "mimetype": "text/x-python",
   "name": "python",
   "nbconvert_exporter": "python",
   "pygments_lexer": "ipython3",
   "version": "3.5.2"
  }
 },
 "nbformat": 4,
 "nbformat_minor": 1
}
