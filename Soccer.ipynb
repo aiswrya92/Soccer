{
 "cells": [
  {
   "cell_type": "code",
   "execution_count": 1,
   "metadata": {
    "collapsed": true
   },
   "outputs": [],
   "source": [
    "from sklearn import svm \n",
    "from sklearn.model_selection import cross_val_score\n",
    "from sklearn.svm import LinearSVC\n",
    "import numpy as np\n",
    "import pandas as pd\n",
    "import matplotlib.pyplot as plt\n",
    "import sqlite3\n",
    "import pandas as pd\n",
    "%matplotlib inline"
   ]
  },
  {
   "cell_type": "code",
   "execution_count": 2,
   "metadata": {
    "collapsed": false
   },
   "outputs": [],
   "source": [
    "# Create a SQL connection to our SQLite database\n",
    "con = sqlite3.connect(\"soccerdata.sqlite\")\n",
    "\n",
    "match =  pd.read_sql_query(\"SELECT * FROM Match\", con)\n",
    "team =  pd.read_sql_query(\"SELECT * FROM Team\", con)\n",
    "\n",
    "#Be sure to close the connection.\n",
    "con.close()"
   ]
  },
  {
   "cell_type": "code",
   "execution_count": 3,
   "metadata": {
    "collapsed": false,
    "scrolled": true
   },
   "outputs": [],
   "source": [
    "#match data\n",
    "match = match.loc[match['league_id'] == 1729,] #filter by league\n",
    "match = match.iloc[:,3:11] #only need first 11 columns\n",
    "match.index = range(1, len(match[\"stage\"]) + 1)\n",
    "match[\"Outcome\"] = 0\n",
    "\n",
    "#rename columns\n",
    "match.columns = [\"Season\", \"Stage\", \"Date\", \"Match_ID\", \"Home_Team_ID\", \"Away_Team_ID\", \"Home_Goals\", \"Away_Goals\", \"Outcome\"]"
   ]
  },
  {
   "cell_type": "code",
   "execution_count": 4,
   "metadata": {
    "collapsed": false
   },
   "outputs": [
    {
     "name": "stdout",
     "output_type": "stream",
     "text": [
      "        id  team_api_id           team_long_name team_short_name\n",
      "0        1         9987                 KRC Genk             GEN\n",
      "1        2         9993             Beerschot AC             BAC\n",
      "2        3        10000         SV Zulte-Waregem             ZUL\n",
      "3        4         9994         Sporting Lokeren             LOK\n",
      "4        5         9984        KSV Cercle Brugge             CEB\n",
      "5        6         8635           RSC Anderlecht             AND\n",
      "6        7         9991                 KAA Gent             GEN\n",
      "7        8         9998                RAEC Mons             MON\n",
      "8        9         7947            FCV Dender EH             DEN\n",
      "9       10         9985        Standard de Liège             STL\n",
      "10      11         8203              KV Mechelen             MEC\n",
      "11      12         8342           Club Brugge KV             CLB\n",
      "12      13         9999            KSV Roeselare             ROS\n",
      "13      14         8571              KV Kortrijk             KOR\n",
      "14      15         4049                   Tubize             TUB\n",
      "15      16         9996     Royal Excel Mouscron             MOU\n",
      "16      17        10001             KVC Westerlo             WES\n",
      "17      18         9986       Sporting Charleroi             CHA\n",
      "18     614         9997        Sint-Truidense VV             STT\n",
      "19    1034         9989                Lierse SK             LIE\n",
      "20    1042         6351                KAS Eupen             EUP\n",
      "21    1513         1773      Oud-Heverlee Leuven             O-H\n",
      "22    2004         8475         Waasland-Beveren             WAA\n",
      "23    2476         8573              KV Oostende             OOS\n",
      "24    2510       274581     Royal Excel Mouscron             MOP\n",
      "25    3457        10260        Manchester United             MUN\n",
      "26    3458        10261         Newcastle United             NEW\n",
      "27    3459         9825                  Arsenal             ARS\n",
      "28    3460         8659     West Bromwich Albion             WBA\n",
      "29    3461         8472               Sunderland             SUN\n",
      "..     ...          ...                      ...             ...\n",
      "269  43053         9906          Atlético Madrid             AMA\n",
      "270  43054         9864                Málaga CF             MAL\n",
      "271  43800         9868     Xerez Club Deportivo             XER\n",
      "272  43803         8394            Real Zaragoza             ZAR\n",
      "273  43804         9867              CD Tenerife             TEN\n",
      "274  44557        10278  Hércules Club de Fútbol             HER\n",
      "275  44565         8581               Levante UD             LEV\n",
      "276  44569         8560            Real Sociedad             SOC\n",
      "277  45330         7878               Granada CF             GRA\n",
      "278  45333         8370           Rayo Vallecano             RAY\n",
      "279  46087         9910         RC Celta de Vigo             CEL\n",
      "280  46848        10268                 Elche CF             ELC\n",
      "281  47605         8372                 SD Eibar             EIB\n",
      "282  47612         7869               Córdoba CF             COR\n",
      "283  48358         8306            UD Las Palmas             LAS\n",
      "284  49115         9956  Grasshopper Club Zürich             GRA\n",
      "285  49116         6493            AC Bellinzona             BEL\n",
      "286  49117        10192           BSC Young Boys              YB\n",
      "287  49118         9931                 FC Basel             BAS\n",
      "288  49119         9930                 FC Aarau             AAR\n",
      "289  49120        10179                  FC Sion             SIO\n",
      "290  49121        10199                FC Luzern             LUZ\n",
      "291  49122         9824                 FC Vaduz             VAD\n",
      "292  49123         7955          Neuchâtel Xamax             XAM\n",
      "293  49124        10243                FC Zürich             ZUR\n",
      "294  49479        10190            FC St. Gallen             GAL\n",
      "295  49837        10191                  FC Thun             THU\n",
      "296  50201         9777              Servette FC             SER\n",
      "297  50204         7730       FC Lausanne-Sports             LAU\n",
      "298  51606         7896                   Lugano             LUG\n",
      "\n",
      "[299 rows x 4 columns]\n"
     ]
    }
   ],
   "source": [
    "#team data\n",
    "team = team.drop(\"team_fifa_api_id\", 1)\n",
    "\n",
    "#extract those teams that took part in \n",
    "print(team)"
   ]
  },
  {
   "cell_type": "code",
   "execution_count": 5,
   "metadata": {
    "collapsed": false
   },
   "outputs": [],
   "source": [
    "#create a class variable for \"Win\", \"Lose\", \"Tie\" - WRT home team\n",
    "for i in range(1, len(match[\"Outcome\"]) + 1):\n",
    "    home_goals = match.loc[i, \"Home_Goals\"]\n",
    "    away_goals = match.loc[i, \"Away_Goals\"]\n",
    "    if home_goals > away_goals:\n",
    "        match.loc[i,'Outcome'] = \"Win\"\n",
    "    elif home_goals == away_goals:\n",
    "        match.loc[i,'Outcome'] = \"Tie\"\n",
    "    elif home_goals < away_goals:\n",
    "        match.loc[i,'Outcome'] = \"Lose\""
   ]
  },
  {
   "cell_type": "code",
   "execution_count": 6,
   "metadata": {
    "collapsed": false
   },
   "outputs": [
    {
     "data": {
      "text/html": [
       "<div>\n",
       "<table border=\"1\" class=\"dataframe\">\n",
       "  <thead>\n",
       "    <tr style=\"text-align: right;\">\n",
       "      <th></th>\n",
       "      <th>Season</th>\n",
       "      <th>Stage</th>\n",
       "      <th>Date</th>\n",
       "      <th>Match_ID</th>\n",
       "      <th>Home_Team_ID</th>\n",
       "      <th>Away_Team_ID</th>\n",
       "      <th>Home_Goals</th>\n",
       "      <th>Away_Goals</th>\n",
       "      <th>Outcome</th>\n",
       "    </tr>\n",
       "  </thead>\n",
       "  <tbody>\n",
       "    <tr>\n",
       "      <th>1</th>\n",
       "      <td>2008/2009</td>\n",
       "      <td>1</td>\n",
       "      <td>2008-08-17 00:00:00</td>\n",
       "      <td>489042</td>\n",
       "      <td>10260</td>\n",
       "      <td>10261</td>\n",
       "      <td>1</td>\n",
       "      <td>1</td>\n",
       "      <td>Tie</td>\n",
       "    </tr>\n",
       "    <tr>\n",
       "      <th>2</th>\n",
       "      <td>2008/2009</td>\n",
       "      <td>1</td>\n",
       "      <td>2008-08-16 00:00:00</td>\n",
       "      <td>489043</td>\n",
       "      <td>9825</td>\n",
       "      <td>8659</td>\n",
       "      <td>1</td>\n",
       "      <td>0</td>\n",
       "      <td>Win</td>\n",
       "    </tr>\n",
       "    <tr>\n",
       "      <th>3</th>\n",
       "      <td>2008/2009</td>\n",
       "      <td>1</td>\n",
       "      <td>2008-08-16 00:00:00</td>\n",
       "      <td>489044</td>\n",
       "      <td>8472</td>\n",
       "      <td>8650</td>\n",
       "      <td>0</td>\n",
       "      <td>1</td>\n",
       "      <td>Lose</td>\n",
       "    </tr>\n",
       "    <tr>\n",
       "      <th>4</th>\n",
       "      <td>2008/2009</td>\n",
       "      <td>1</td>\n",
       "      <td>2008-08-16 00:00:00</td>\n",
       "      <td>489045</td>\n",
       "      <td>8654</td>\n",
       "      <td>8528</td>\n",
       "      <td>2</td>\n",
       "      <td>1</td>\n",
       "      <td>Win</td>\n",
       "    </tr>\n",
       "    <tr>\n",
       "      <th>5</th>\n",
       "      <td>2008/2009</td>\n",
       "      <td>1</td>\n",
       "      <td>2008-08-17 00:00:00</td>\n",
       "      <td>489046</td>\n",
       "      <td>10252</td>\n",
       "      <td>8456</td>\n",
       "      <td>4</td>\n",
       "      <td>2</td>\n",
       "      <td>Win</td>\n",
       "    </tr>\n",
       "  </tbody>\n",
       "</table>\n",
       "</div>"
      ],
      "text/plain": [
       "      Season  Stage                 Date  Match_ID  Home_Team_ID  \\\n",
       "1  2008/2009      1  2008-08-17 00:00:00    489042         10260   \n",
       "2  2008/2009      1  2008-08-16 00:00:00    489043          9825   \n",
       "3  2008/2009      1  2008-08-16 00:00:00    489044          8472   \n",
       "4  2008/2009      1  2008-08-16 00:00:00    489045          8654   \n",
       "5  2008/2009      1  2008-08-17 00:00:00    489046         10252   \n",
       "\n",
       "   Away_Team_ID  Home_Goals  Away_Goals Outcome  \n",
       "1         10261           1           1     Tie  \n",
       "2          8659           1           0     Win  \n",
       "3          8650           0           1    Lose  \n",
       "4          8528           2           1     Win  \n",
       "5          8456           4           2     Win  "
      ]
     },
     "execution_count": 6,
     "metadata": {},
     "output_type": "execute_result"
    }
   ],
   "source": [
    "match.head()"
   ]
  },
  {
   "cell_type": "code",
   "execution_count": 9,
   "metadata": {
    "collapsed": true
   },
   "outputs": [],
   "source": [
    "def getLastXMatchesResults_Home(date, team, x = 10):    \n",
    "    #Filter team matches from matches\n",
    "    teamMatches = match[(match['Home_Team_ID'] == team)]                           \n",
    "    #Filter x last matches from team matches\n",
    "    xMatches = teamMatches[teamMatches.Date < date].sort_values(by = 'Date', ascending = False).iloc[0:x,:]\n",
    "    #Calculate win percentage\n",
    "    won = len(xMatches['Outcome'] == \"Win\") / 10\n",
    "    return won\n",
    "\n",
    "def getLastXMatchesResults_Away(date, team, x = 10):    \n",
    "    #Filter team matches from matches\n",
    "    teamMatches = match[(match['Away_Team_ID'] == team)]                           \n",
    "    #Filter x last matches from team matches\n",
    "    xMatches = teamMatches[teamMatches.Date < date].sort_values(by = 'Date', ascending = False).iloc[0:x,:]\n",
    "    #Calculate win percentage\n",
    "    won = len(xMatches['Outcome'] == \"Win\") / 10\n",
    "    return won\n",
    "    \n",
    "def getLastXMatchesResultsAgainstEachOther(date, home_team, away_team, x = 10):    \n",
    "    #Find matches of both teams\n",
    "    homeMatches = match[(match['Home_Team_ID'] == home_team) & (match['Away_Team_ID'] == away_team)]    \n",
    "    awayMatches = match[(match['Home_Team_ID'] == away_team) & (match['Away_Team_ID'] == home_team)] \n",
    "    #Get last x matches - Home\n",
    "    try:    \n",
    "        xMatches = homeMatches[homeMatches.Date < date].sort_values(by = 'Date', ascending = False).iloc[0:x,:]\n",
    "        homeWin = len(xMatches['Outcome'] == \"Win\") / 10\n",
    "    except:\n",
    "        xMatches = homeMatches[homeMatches.Date < date].sort_values(by = 'Date', ascending = False).iloc[0:homeMatches.shape[0],:]\n",
    "        homeWin = 0\n",
    "        #Check for error in data\n",
    "        if(xMatches.shape[0] > x):\n",
    "            print(\"Error in obtaining matches\")\n",
    "    \n",
    "    #Get last x matches - Away\n",
    "    try:    \n",
    "        xMatches = awayMatches[awayMatches.Date < date].sort_values(by = 'Date', ascending = False).iloc[0:x,:]\n",
    "        awayWin = len(xMatches['Outcome'] == \"Win\") / 10\n",
    "    except:\n",
    "        xMatches = awayMatches[awayMatches.Date < date].sort_values(by = 'Date', ascending = False).iloc[0:awayMatches.shape[0],:]\n",
    "        awayWin = 0\n",
    "        #Check for error in data\n",
    "        if(xMatches.shape[0] > x):\n",
    "            print(\"Error in obtaining matches\")\n",
    "    \n",
    "            \n",
    "    #Return data\n",
    "    return np.array([homeWin, awayWin])\n"
   ]
  },
  {
   "cell_type": "code",
   "execution_count": 10,
   "metadata": {
    "collapsed": false
   },
   "outputs": [],
   "source": [
    "#create training set and validation set\n",
    "#season 2008-09 to 2014-15 will be the training data\n",
    "#we will predict the outcome of the matches in 2015-16\n",
    "train = match.loc[match[\"Season\"] != \"2015/2016\",]\n",
    "validation = match.loc[match[\"Season\"] == \"2015/2016\",]\n",
    "\n",
    "#create columns for last X matches\n",
    "match[\"HomeTeamWins_Home\"] = 0\n",
    "match[\"HomeTeamWins_Away\"] = 0\n",
    "match[\"AwayTeamWins_Home\"] = 0\n",
    "match[\"AwayTeamWins_Away\"] = 0\n",
    "match[\"HomeVsAway_Home\"] = 0\n",
    "match[\"HomeVsAway_Away\"] = 0\n",
    "\n",
    "for i in range(1, len(match[\"Match_ID\"]) + 1):\n",
    "    match.loc[i, \"HomeTeamWins_Home\"] = getLastXMatchesResults_Home(match.loc[i, \"Date\"],  match.loc[i, \"Home_Team_ID\"])\n",
    "    match.loc[i, \"HomeTeamWins_Away\"] = getLastXMatchesResults_Away(match.loc[i, \"Date\"],  match.loc[i, \"Home_Team_ID\"])\n",
    "    match.loc[i, \"AwayTeamWins_Home\"] = getLastXMatchesResults_Home(match.loc[i, \"Date\"],  match.loc[i, \"Away_Team_ID\"])\n",
    "    match.loc[i, \"AwayTeamWins_Away\"] = getLastXMatchesResults_Away(match.loc[i, \"Date\"],  match.loc[i, \"Away_Team_ID\"])\n",
    "    temp =  getLastXMatchesResultsAgainstEachOther(match.loc[i, \"Date\"],match.loc[i, \"Home_Team_ID\"],match.loc[i, \"Away_Team_ID\"])\n",
    "    match.loc[i, \"HomeVsAway_Home\"] = temp[0]\n",
    "    match.loc[i, \"HomeVsAway_Away\"] = temp[1]"
   ]
  },
  {
   "cell_type": "code",
   "execution_count": null,
   "metadata": {
    "collapsed": false
   },
   "outputs": [],
   "source": [
    "# fit SVM with polynomial kernel \n",
    "clf = svm.SVC(kernel='poly', degree=2, C=10)\n",
    "clf.fit(train[[\"Home_Team_ID\", \"Away_Team_ID\", \"HomeTeamWins_Home\", \"HomeTeamWins_Away\", \"AwayTeamWins_Home\", \"AwayTeamWins_Away\", \"HomeVsAway_Home\", \"HomeVsAway_Away\"]], train['Outcome'])"
   ]
  },
  {
   "cell_type": "code",
   "execution_count": null,
   "metadata": {
    "collapsed": true
   },
   "outputs": [],
   "source": [
    "#predict\n",
    "validation['prediction'] = clf.predict(validation[[\"Home_Team_ID\", \"Away_Team_ID\", \"HomeTeamWins_Home\", \"HomeTeamWins_Away\", \"AwayTeamWins_Home\", \"AwayTeamWins_Away\", \"HomeVsAway_Home\", \"HomeVsAway_Away\"]])"
   ]
  }
 ],
 "metadata": {
  "anaconda-cloud": {},
  "kernelspec": {
   "display_name": "Python [conda root]",
   "language": "python",
   "name": "conda-root-py"
  },
  "language_info": {
   "codemirror_mode": {
    "name": "ipython",
    "version": 3
   },
   "file_extension": ".py",
   "mimetype": "text/x-python",
   "name": "python",
   "nbconvert_exporter": "python",
   "pygments_lexer": "ipython3",
   "version": "3.5.2"
  }
 },
 "nbformat": 4,
 "nbformat_minor": 1
}
