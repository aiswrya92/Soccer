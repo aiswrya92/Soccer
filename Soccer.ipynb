{
 "cells": [
  {
   "cell_type": "code",
   "execution_count": 1,
   "metadata": {
    "collapsed": true
   },
   "outputs": [],
   "source": [
    "from sklearn import svm \n",
    "from sklearn.model_selection import cross_val_score\n",
    "from sklearn.svm import LinearSVC\n",
    "import numpy as np\n",
    "import pandas as pd\n",
    "import matplotlib.pyplot as plt\n",
    "import sqlite3\n",
    "%matplotlib inline\n",
    "\n",
    "#tree\n",
    "from sklearn import tree\n",
    "from sklearn.ensemble import BaggingClassifier\n",
    "from sklearn.ensemble import RandomForestClassifier\n",
    "from sklearn.ensemble import AdaBoostClassifier\n",
    "from sklearn.model_selection import train_test_split\n",
    "from sklearn.model_selection import cross_val_score\n",
    "\n",
    "from IPython.display import Image # displaying images files in jupyter\n",
    "from IPython.display import IFrame # displaying pdf file in jupyter\n",
    "\n",
    "import warnings\n",
    "warnings.simplefilter(\"ignore\")"
   ]
  },
  {
   "cell_type": "code",
   "execution_count": 22,
   "metadata": {
    "collapsed": false
   },
   "outputs": [
    {
     "name": "stdout",
     "output_type": "stream",
     "text": [
      "1\n",
      "0.997368421053\n"
     ]
    }
   ],
   "source": [
    "#read the data\n",
    "match = pd.read_csv(\"DataSetForClassification.csv\")\n",
    "\n",
    "#drop the columns that won't be used for prediction\n",
    "match.drop(\"Unnamed: 0\", axis = 1, inplace = True)\n",
    "match.drop(\"Unnamed: 58\", axis = 1, inplace = True)\n",
    "match.drop(match.ix[:, \"home_player_1\": \"away_player_11\"], axis = 1, inplace = True)\n",
    "\n",
    "#split the data into training and validation set\n",
    "#season 2008-09 to 2014-15 will be the training data\n",
    "#we will predict the outcome of the matches in 2015-16\n",
    "train = match.loc[match[\"Season\"] != \"2015/2016\",]\n",
    "validation = match.loc[match[\"Season\"] == \"2015/2016\",]\n",
    "\n",
    "#trees\n",
    "X = train.ix[:, \"Home_Team_ID\":\"HomeVsAway_Away\"]\n",
    "Y =  train['Outcome']\n",
    "clf = tree.DecisionTreeClassifier()\n",
    "clf = clf.fit(X,Y)\n",
    "\n",
    "#predict - try an out of sample prediction\n",
    "X = validation.ix[:, \"Home_Team_ID\":\"HomeVsAway_Away\"]\n",
    "Y = validation['Outcome']\n",
    "\n",
    "validation['prediction'] = clf.predict(X)\n",
    "\n",
    "#prediction errors\n",
    "print((validation['prediction'] != validation['Outcome']).sum())\n",
    "\n",
    "#accuracy\n",
    "print((validation['prediction'] == validation['Outcome']).sum() / len(validation['Outcome']))"
   ]
  },
  {
   "cell_type": "code",
   "execution_count": 27,
   "metadata": {
    "collapsed": false
   },
   "outputs": [
    {
     "name": "stdout",
     "output_type": "stream",
     "text": [
      "28\n",
      "0.926315789474\n"
     ]
    }
   ],
   "source": [
    "#random forest on train data\n",
    "X = train.ix[:, \"Home_Team_ID\":\"HomeVsAway_Away\"]\n",
    "Y =  train['Outcome']\n",
    "clf_rf = RandomForestClassifier(max_features=\"sqrt\")\n",
    "clf_rf = clf_rf.fit(X, Y)\n",
    "clf_rf_scores = cross_val_score(clf_rf, X, Y, cv=5)\n",
    "\n",
    "#try an out of sample prediction\n",
    "X = validation.ix[:, \"Home_Team_ID\":\"HomeVsAway_Away\"]\n",
    "Y = validation['Outcome']\n",
    "validation['prediction'] = clf_rf.predict(X)\n",
    "\n",
    "#prediction errors\n",
    "print((validation['prediction'] != validation['Outcome']).sum())\n",
    "\n",
    "#accuracy\n",
    "print((validation['prediction'] == validation['Outcome']).sum() / len(validation['Outcome']))"
   ]
  },
  {
   "cell_type": "code",
   "execution_count": 28,
   "metadata": {
    "collapsed": false
   },
   "outputs": [
    {
     "name": "stdout",
     "output_type": "stream",
     "text": [
      "105\n",
      "0.723684210526\n"
     ]
    }
   ],
   "source": [
    "#try boosting\n",
    "X = train.ix[:, \"Home_Team_ID\":\"HomeVsAway_Away\"]\n",
    "Y =  train['Outcome']\n",
    "clf = AdaBoostClassifier()\n",
    "clf = clf.fit(X,Y)\n",
    "clf.score(X,Y)\n",
    "\n",
    "#try an out of sample prediction\n",
    "X = validation.ix[:, \"Home_Team_ID\":\"HomeVsAway_Away\"]\n",
    "Y = validation['Outcome']\n",
    "validation['prediction'] = clf.predict(X)\n",
    "\n",
    "#prediction errors\n",
    "print((validation['prediction'] != validation['Outcome']).sum())\n",
    "\n",
    "#accuracy\n",
    "print((validation['prediction'] == validation['Outcome']).sum() / len(validation['Outcome']))"
   ]
  },
  {
   "cell_type": "code",
   "execution_count": null,
   "metadata": {
    "collapsed": true
   },
   "outputs": [],
   "source": []
  }
 ],
 "metadata": {
  "anaconda-cloud": {},
  "kernelspec": {
   "display_name": "Python [conda root]",
   "language": "python",
   "name": "conda-root-py"
  },
  "language_info": {
   "codemirror_mode": {
    "name": "ipython",
    "version": 3
   },
   "file_extension": ".py",
   "mimetype": "text/x-python",
   "name": "python",
   "nbconvert_exporter": "python",
   "pygments_lexer": "ipython3",
   "version": "3.5.2"
  }
 },
 "nbformat": 4,
 "nbformat_minor": 1
}
