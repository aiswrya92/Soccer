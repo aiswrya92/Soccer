{
 "cells": [
  {
   "cell_type": "code",
   "execution_count": 21,
   "metadata": {
    "collapsed": true
   },
   "outputs": [],
   "source": [
    "from sklearn import svm \n",
    "from sklearn.model_selection import cross_val_score\n",
    "from sklearn.svm import LinearSVC\n",
    "import numpy as np\n",
    "import pandas as pd\n",
    "import matplotlib.pyplot as plt\n",
    "import sqlite3\n",
    "%matplotlib inline\n",
    "\n",
    "#clusters\n",
    "import scipy \n",
    "import scipy.stats as stats\n",
    "import matplotlib.pyplot as plt\n",
    "from IPython.display import Image\n",
    "from scipy import misc\n",
    "from scipy.spatial import distance\n",
    "from scipy.cluster import hierarchy\n",
    "from sklearn import cluster\n",
    "from sklearn import svm\n",
    "from sklearn import datasets\n",
    "from sklearn import mixture\n",
    "from sklearn.model_selection import cross_val_score\n",
    "from mpl_toolkits.mplot3d import axes3d\n",
    "from ipywidgets import interact\n",
    "from matplotlib import cm\n",
    "from matplotlib.colors import LogNorm\n",
    "np.set_printoptions(precision=1)\n",
    "\n",
    "#tree\n",
    "from sklearn import tree\n",
    "from sklearn.ensemble import BaggingClassifier\n",
    "from sklearn.ensemble import RandomForestClassifier\n",
    "from sklearn.ensemble import AdaBoostClassifier\n",
    "from sklearn.model_selection import train_test_split\n",
    "from sklearn.model_selection import cross_val_score\n",
    "\n",
    "from IPython.display import Image # displaying images files in jupyter\n",
    "from IPython.display import IFrame # displaying pdf file in jupyter\n",
    "\n",
    "import warnings\n",
    "warnings.simplefilter(\"ignore\")"
   ]
  },
  {
   "cell_type": "code",
   "execution_count": 2,
   "metadata": {
    "collapsed": false
   },
   "outputs": [],
   "source": [
    "# Create a SQL connection to our SQLite database\n",
    "con = sqlite3.connect(\"soccerdata.sqlite\")\n",
    "\n",
    "match =  pd.read_sql_query(\"SELECT * FROM Match\", con)\n",
    "team =  pd.read_sql_query(\"SELECT * FROM Team\", con)\n",
    "\n",
    "#Be sure to close the connection.\n",
    "con.close()"
   ]
  },
  {
   "cell_type": "code",
   "execution_count": 3,
   "metadata": {
    "collapsed": false,
    "scrolled": true
   },
   "outputs": [],
   "source": [
    "#match data\n",
    "match = match.loc[match['league_id'] == 1729,] #filter by league\n",
    "match = match.iloc[:,3:11] #only need first 11 columns\n",
    "match.index = range(1, len(match[\"stage\"]) + 1)\n",
    "match[\"Outcome\"] = 0\n",
    "\n",
    "#rename columns\n",
    "match.columns = [\"Season\", \"Stage\", \"Date\", \"Match_ID\", \"Home_Team_ID\", \"Away_Team_ID\", \"Home_Goals\", \"Away_Goals\", \"Outcome\"]"
   ]
  },
  {
   "cell_type": "code",
   "execution_count": 4,
   "metadata": {
    "collapsed": true
   },
   "outputs": [
    {
     "name": "stdout",
     "output_type": "stream",
     "text": [
      "      id  team_api_id           team_long_name team_short_name\n",
      "25  3457        10260        Manchester United             MUN\n",
      "26  3458        10261         Newcastle United             NEW\n",
      "27  3459         9825                  Arsenal             ARS\n",
      "28  3460         8659     West Bromwich Albion             WBA\n",
      "29  3461         8472               Sunderland             SUN\n",
      "30  3462         8650                Liverpool             LIV\n",
      "31  3463         8654          West Ham United             WHU\n",
      "32  3464         8528           Wigan Athletic             WIG\n",
      "33  3465        10252              Aston Villa             AVL\n",
      "34  3466         8456          Manchester City             MCI\n",
      "35  3467         8668                  Everton             EVE\n",
      "36  3468         8655         Blackburn Rovers             BLB\n",
      "37  3469         8549            Middlesbrough             MID\n",
      "38  3470         8586        Tottenham Hotspur             TOT\n",
      "39  3471         8559         Bolton Wanderers             BOL\n",
      "40  3472        10194               Stoke City             STK\n",
      "41  3473         8667                Hull City             HUL\n",
      "42  3474         9879                   Fulham             FUL\n",
      "43  3475         8455                  Chelsea             CHE\n",
      "44  3476         8462               Portsmouth             POR\n",
      "45  4218         8658          Birmingham City             BIR\n",
      "46  4225         8602  Wolverhampton Wanderers             WOL\n",
      "47  4234         8191                  Burnley             BUR\n",
      "48  4996         8483                Blackpool             BLA\n",
      "49  5744        10003             Swansea City             SWA\n",
      "50  5747        10172      Queens Park Rangers             QPR\n",
      "51  5756         9850             Norwich City             NOR\n",
      "52  6504         8466              Southampton             SOU\n",
      "53  6509         9798                  Reading             REA\n",
      "54  7261         9826           Crystal Palace             CRY\n",
      "55  7276         8344             Cardiff City             CAR\n",
      "56  8021         8197           Leicester City             LEI\n",
      "57  8779         8678              Bournemouth             BOU\n",
      "58  8784         9817                  Watford             WAT\n"
     ]
    }
   ],
   "source": [
    "#team data\n",
    "team = team.drop(\"team_fifa_api_id\", 1)\n",
    "\n",
    "#extract those teams that took part in league = 1729\n",
    "hometeams = match[\"Home_Team_ID\"].unique()\n",
    "awayteams = match[\"Away_Team_ID\"].unique()\n",
    "leagueTeams = np.concatenate((hometeams, awayteams), axis = 0)\n",
    "team = team.loc[team['team_api_id'].isin(leagueTeams) ,] \n",
    "\n",
    "#print team\n",
    "#print(team)"
   ]
  },
  {
   "cell_type": "code",
   "execution_count": 5,
   "metadata": {
    "collapsed": false
   },
   "outputs": [],
   "source": [
    "#create a class variable for \"Win\", \"Lose\", \"Tie\" - WRT home team\n",
    "for i in range(1, len(match[\"Outcome\"]) + 1):\n",
    "    home_goals = match.loc[i, \"Home_Goals\"]\n",
    "    away_goals = match.loc[i, \"Away_Goals\"]\n",
    "    if home_goals > away_goals:\n",
    "        match.loc[i,'Outcome'] = \"Win\"\n",
    "    elif home_goals == away_goals:\n",
    "        match.loc[i,'Outcome'] = \"Tie\"\n",
    "    elif home_goals < away_goals:\n",
    "        match.loc[i,'Outcome'] = \"Lose\""
   ]
  },
  {
   "cell_type": "code",
   "execution_count": null,
   "metadata": {
    "collapsed": false
   },
   "outputs": [],
   "source": [
    "match.head()"
   ]
  },
  {
   "cell_type": "code",
   "execution_count": 6,
   "metadata": {
    "collapsed": true
   },
   "outputs": [],
   "source": [
    "def getLastXMatchesResults_Home(date, team, x = 10):    \n",
    "    #Filter team matches from matches\n",
    "    teamMatches = match[(match['Home_Team_ID'] == team)]                           \n",
    "    #Filter x last matches from team matches\n",
    "    xMatches = teamMatches[teamMatches.Date < date].sort_values(by = 'Date', ascending = False).iloc[0:x,:]\n",
    "    #Calculate win percentage\n",
    "    won = len(xMatches['Outcome'] == \"Win\") / 10\n",
    "    return won\n",
    "\n",
    "def getLastXMatchesResults_Away(date, team, x = 10):    \n",
    "    #Filter team matches from matches\n",
    "    teamMatches = match[(match['Away_Team_ID'] == team)]                           \n",
    "    #Filter x last matches from team matches\n",
    "    xMatches = teamMatches[teamMatches.Date < date].sort_values(by = 'Date', ascending = False).iloc[0:x,:]\n",
    "    #Calculate win percentage\n",
    "    won = len(xMatches['Outcome'] == \"Win\") / 10\n",
    "    return won\n",
    "    \n",
    "def getLastXMatchesResultsAgainstEachOther(date, home_team, away_team, x = 10):    \n",
    "    #Find matches of both teams\n",
    "    homeMatches = match[(match['Home_Team_ID'] == home_team) & (match['Away_Team_ID'] == away_team)]    \n",
    "    awayMatches = match[(match['Home_Team_ID'] == away_team) & (match['Away_Team_ID'] == home_team)] \n",
    "    #Get last x matches - Home\n",
    "    try:    \n",
    "        xMatches = homeMatches[homeMatches.Date < date].sort_values(by = 'Date', ascending = False).iloc[0:x,:]\n",
    "        homeWin = len(xMatches['Outcome'] == \"Win\") / 10\n",
    "    except:\n",
    "        xMatches = homeMatches[homeMatches.Date < date].sort_values(by = 'Date', ascending = False).iloc[0:homeMatches.shape[0],:]\n",
    "        homeWin = 0\n",
    "        #Check for error in data\n",
    "        if(xMatches.shape[0] > x):\n",
    "            print(\"Error in obtaining matches\")\n",
    "    \n",
    "    #Get last x matches - Away\n",
    "    try:    \n",
    "        xMatches = awayMatches[awayMatches.Date < date].sort_values(by = 'Date', ascending = False).iloc[0:x,:]\n",
    "        awayWin = len(xMatches['Outcome'] == \"Win\") / 10\n",
    "    except:\n",
    "        xMatches = awayMatches[awayMatches.Date < date].sort_values(by = 'Date', ascending = False).iloc[0:awayMatches.shape[0],:]\n",
    "        awayWin = 0\n",
    "        #Check for error in data\n",
    "        if(xMatches.shape[0] > x):\n",
    "            print(\"Error in obtaining matches\")\n",
    "    \n",
    "            \n",
    "    #Return data\n",
    "    return np.array([homeWin, awayWin])\n"
   ]
  },
  {
   "cell_type": "code",
   "execution_count": 15,
   "metadata": {
    "collapsed": false
   },
   "outputs": [],
   "source": [
    "#create columns for last X matches\n",
    "match[\"HomeTeamWins_Home\"] = 0\n",
    "match[\"HomeTeamWins_Away\"] = 0\n",
    "match[\"AwayTeamWins_Home\"] = 0\n",
    "match[\"AwayTeamWins_Away\"] = 0\n",
    "match[\"HomeVsAway_Home\"] = 0\n",
    "match[\"HomeVsAway_Away\"] = 0\n",
    "\n",
    "for i in range(1, len(match[\"Match_ID\"]) + 1):\n",
    "    match.loc[i, \"HomeTeamWins_Home\"] = getLastXMatchesResults_Home(match.loc[i, \"Date\"],  match.loc[i, \"Home_Team_ID\"])\n",
    "    match.loc[i, \"HomeTeamWins_Away\"] = getLastXMatchesResults_Away(match.loc[i, \"Date\"],  match.loc[i, \"Home_Team_ID\"])\n",
    "    match.loc[i, \"AwayTeamWins_Home\"] = getLastXMatchesResults_Home(match.loc[i, \"Date\"],  match.loc[i, \"Away_Team_ID\"])\n",
    "    match.loc[i, \"AwayTeamWins_Away\"] = getLastXMatchesResults_Away(match.loc[i, \"Date\"],  match.loc[i, \"Away_Team_ID\"])\n",
    "    temp =  getLastXMatchesResultsAgainstEachOther(match.loc[i, \"Date\"],match.loc[i, \"Home_Team_ID\"],match.loc[i, \"Away_Team_ID\"])\n",
    "    match.loc[i, \"HomeVsAway_Home\"] = temp[0]\n",
    "    match.loc[i, \"HomeVsAway_Away\"] = temp[1]"
   ]
  },
  {
   "cell_type": "code",
   "execution_count": null,
   "metadata": {
    "collapsed": false
   },
   "outputs": [],
   "source": [
    "#use clusters to classify\n",
    "X = match[[\"Home_Team_ID\", \"Away_Team_ID\", \"HomeTeamWins_Home\", \"HomeTeamWins_Away\", \"AwayTeamWins_Home\", \"AwayTeamWins_Away\", \"HomeVsAway_Home\", \"HomeVsAway_Away\"]]\n",
    "Y =  match['Outcome']\n",
    "kmeans = cluster.KMeans(n_clusters = 3).fit(X)\n",
    "\n",
    "#predict - find the cluster of each observation\n",
    "clusters = kmeans.predict(X)"
   ]
  },
  {
   "cell_type": "code",
   "execution_count": null,
   "metadata": {
    "collapsed": false,
    "scrolled": true
   },
   "outputs": [],
   "source": [
    "print(clusters[:20])\n",
    "print(match.loc[0:20,'Outcome'])"
   ]
  },
  {
   "cell_type": "code",
   "execution_count": null,
   "metadata": {
    "collapsed": false
   },
   "outputs": [],
   "source": [
    "#map the clusters to 'Win', 'Lose' or 'Tie'\n",
    "cluster_mapping = dict(zip([2,1,0],['Win','Lose', 'Tie']))\n",
    "cluster_mapping"
   ]
  },
  {
   "cell_type": "code",
   "execution_count": null,
   "metadata": {
    "collapsed": false
   },
   "outputs": [],
   "source": [
    "# use clustering to infer the label of each observation\n",
    "classes = list(map(lambda k:cluster_mapping[k], kmeans.labels_))\n",
    "print('True label:', Y[:20].tolist())\n",
    "print('Prediction:', classes[:20])"
   ]
  },
  {
   "cell_type": "code",
   "execution_count": null,
   "metadata": {
    "collapsed": false
   },
   "outputs": [],
   "source": [
    "(Y==classes).sum()/Y.shape[0]"
   ]
  },
  {
   "cell_type": "code",
   "execution_count": 55,
   "metadata": {
    "collapsed": false
   },
   "outputs": [],
   "source": [
    "#create training set and validation set\n",
    "#season 2008-09 to 2014-15 will be the training data\n",
    "#we will predict the outcome of the matches in 2015-16\n",
    "train = match.loc[match[\"Season\"] != \"2015/2016\",]\n",
    "validation = match.loc[match[\"Season\"] == \"2015/2016\",]\n",
    "\n",
    "#trees\n",
    "X = train[[\"Home_Team_ID\", \"Away_Team_ID\", \"HomeTeamWins_Home\", \"HomeTeamWins_Away\", \"AwayTeamWins_Home\", \"AwayTeamWins_Away\", \"HomeVsAway_Home\", \"HomeVsAway_Away\"]]\n",
    "Y =  train['Outcome']\n",
    "clf = tree.DecisionTreeClassifier()\n",
    "clf = clf.fit(X,Y)"
   ]
  },
  {
   "cell_type": "code",
   "execution_count": 56,
   "metadata": {
    "collapsed": false
   },
   "outputs": [
    {
     "name": "stdout",
     "output_type": "stream",
     "text": [
      "29\n"
     ]
    }
   ],
   "source": [
    "# predict values for training data\n",
    "train['prediction'] = clf.predict(X)\n",
    "\n",
    "#tree depth\n",
    "print(clf.tree_.max_depth)"
   ]
  },
  {
   "cell_type": "code",
   "execution_count": 57,
   "metadata": {
    "collapsed": false
   },
   "outputs": [
    {
     "name": "stdout",
     "output_type": "stream",
     "text": [
      "241\n",
      "0.634210526316\n"
     ]
    }
   ],
   "source": [
    "#try an out of sample prediction\n",
    "X = validation[[\"Home_Team_ID\", \"Away_Team_ID\", \"HomeTeamWins_Home\", \"HomeTeamWins_Away\", \"AwayTeamWins_Home\", \"AwayTeamWins_Away\", \"HomeVsAway_Home\", \"HomeVsAway_Away\"]]\n",
    "Y = validation['Outcome']\n",
    "validation['prediction'] = clf.predict(X)\n",
    "\n",
    "#prediction errors\n",
    "print((validation['prediction'] != validation['Outcome']).sum())\n",
    "\n",
    "#accuracy\n",
    "print((validation['prediction'] != validation['Outcome']).sum() / len(validation['Outcome']))"
   ]
  },
  {
   "cell_type": "code",
   "execution_count": 68,
   "metadata": {
    "collapsed": false
   },
   "outputs": [],
   "source": [
    "#random forest on train data\n",
    "X = train[[\"Home_Team_ID\", \"Away_Team_ID\", \"HomeTeamWins_Home\", \"HomeTeamWins_Away\", \"AwayTeamWins_Home\", \"AwayTeamWins_Away\", \"HomeVsAway_Home\", \"HomeVsAway_Away\"]]\n",
    "Y =  train['Outcome']\n",
    "clf_rf = RandomForestClassifier(max_features=\"sqrt\")\n",
    "clf_rf = clf_rf.fit(X, Y)\n",
    "clf_rf_scores = cross_val_score(clf_rf, X, Y, cv=5)"
   ]
  },
  {
   "cell_type": "code",
   "execution_count": 69,
   "metadata": {
    "collapsed": false
   },
   "outputs": [],
   "source": [
    "# predict values for training data\n",
    "train['prediction'] = clf_rf.predict(X)"
   ]
  },
  {
   "cell_type": "code",
   "execution_count": 66,
   "metadata": {
    "collapsed": false
   },
   "outputs": [
    {
     "name": "stdout",
     "output_type": "stream",
     "text": [
      "237\n",
      "0.623684210526\n"
     ]
    }
   ],
   "source": [
    "#try an out of sample prediction\n",
    "X = validation[[\"Home_Team_ID\", \"Away_Team_ID\", \"HomeTeamWins_Home\", \"HomeTeamWins_Away\", \"AwayTeamWins_Home\", \"AwayTeamWins_Away\", \"HomeVsAway_Home\", \"HomeVsAway_Away\"]]\n",
    "Y = validation['Outcome']\n",
    "validation['prediction'] = clf_rf.predict(X)\n",
    "\n",
    "#prediction errors\n",
    "print((validation['prediction'] != validation['Outcome']).sum())\n",
    "\n",
    "#accuracy\n",
    "print((validation['prediction'] != validation['Outcome']).sum() / len(validation['Outcome']))"
   ]
  },
  {
   "cell_type": "code",
   "execution_count": 83,
   "metadata": {
    "collapsed": false
   },
   "outputs": [
    {
     "data": {
      "text/plain": [
       "0.52518796992481198"
      ]
     },
     "execution_count": 83,
     "metadata": {},
     "output_type": "execute_result"
    }
   ],
   "source": [
    "#try boosting\n",
    "X = train[[\"Home_Team_ID\", \"Away_Team_ID\", \"HomeTeamWins_Home\", \"HomeTeamWins_Away\", \"AwayTeamWins_Home\", \"AwayTeamWins_Away\", \"HomeVsAway_Home\", \"HomeVsAway_Away\"]]\n",
    "Y =  train['Outcome']\n",
    "clf = AdaBoostClassifier()\n",
    "clf = clf.fit(X,Y)\n",
    "clf.score(X,Y)"
   ]
  },
  {
   "cell_type": "code",
   "execution_count": 84,
   "metadata": {
    "collapsed": false
   },
   "outputs": [
    {
     "name": "stdout",
     "output_type": "stream",
     "text": [
      "223\n",
      "0.586842105263\n"
     ]
    }
   ],
   "source": [
    "#try an out of sample prediction\n",
    "X = validation[[\"Home_Team_ID\", \"Away_Team_ID\", \"HomeTeamWins_Home\", \"HomeTeamWins_Away\", \"AwayTeamWins_Home\", \"AwayTeamWins_Away\", \"HomeVsAway_Home\", \"HomeVsAway_Away\"]]\n",
    "Y = validation['Outcome']\n",
    "validation['prediction'] = clf.predict(X)\n",
    "\n",
    "#prediction errors\n",
    "print((validation['prediction'] != validation['Outcome']).sum())\n",
    "\n",
    "#accuracy\n",
    "print((validation['prediction'] != validation['Outcome']).sum() / len(validation['Outcome']))"
   ]
  },
  {
   "cell_type": "code",
   "execution_count": null,
   "metadata": {
    "collapsed": true
   },
   "outputs": [],
   "source": []
  }
 ],
 "metadata": {
  "anaconda-cloud": {},
  "kernelspec": {
   "display_name": "Python [conda root]",
   "language": "python",
   "name": "conda-root-py"
  },
  "language_info": {
   "codemirror_mode": {
    "name": "ipython",
    "version": 3
   },
   "file_extension": ".py",
   "mimetype": "text/x-python",
   "name": "python",
   "nbconvert_exporter": "python",
   "pygments_lexer": "ipython3",
   "version": "3.5.2"
  }
 },
 "nbformat": 4,
 "nbformat_minor": 1
}
