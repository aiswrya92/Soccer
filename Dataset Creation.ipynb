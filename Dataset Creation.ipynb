{
 "cells": [
  {
   "cell_type": "code",
   "execution_count": 1,
   "metadata": {
    "collapsed": true
   },
   "outputs": [],
   "source": [
    "from sklearn import svm \n",
    "from sklearn.model_selection import cross_val_score\n",
    "from sklearn.svm import LinearSVC\n",
    "import numpy as np\n",
    "import pandas as pd\n",
    "import matplotlib.pyplot as plt\n",
    "import sqlite3\n",
    "%matplotlib inline"
   ]
  },
  {
   "cell_type": "code",
   "execution_count": 2,
   "metadata": {
    "collapsed": true
   },
   "outputs": [],
   "source": [
    "# Create a SQL connection to our SQLite database\n",
    "con = sqlite3.connect(\"soccerdata.sqlite\")\n",
    "\n",
    "match =  pd.read_sql_query(\"SELECT * FROM Match\", con)\n",
    "team =  pd.read_sql_query(\"SELECT * FROM Team\", con)\n",
    "team_attributes =  pd.read_sql_query(\"SELECT * FROM Team_Attributes\", con)\n",
    "player_attributes =  pd.read_sql_query(\"SELECT * FROM Player_Attributes\", con)\n",
    "\n",
    "#Be sure to close the connection.\n",
    "con.close()"
   ]
  },
  {
   "cell_type": "code",
   "execution_count": 3,
   "metadata": {
    "collapsed": true
   },
   "outputs": [],
   "source": [
    "#match data\n",
    "match = match.loc[match['league_id'] == 1729,] #filter by league\n",
    "match = match[['season','date', 'home_team_api_id', 'away_team_api_id', 'home_team_goal', 'away_team_goal',\n",
    "           'home_player_1', 'home_player_2', 'home_player_3', \"home_player_4\", \"home_player_5\",\n",
    "            \"home_player_6\", \"home_player_7\", \"home_player_8\", \"home_player_9\", \"home_player_10\",\n",
    "            \"home_player_11\", \"away_player_1\", \"away_player_2\", \"away_player_3\", \"away_player_4\",\n",
    "            \"away_player_5\", \"away_player_6\", \"away_player_7\", \"away_player_8\", \"away_player_9\",\n",
    "            \"away_player_10\", \"away_player_11\"]]\n",
    "match.index = range(0, len(match[\"date\"]))\n",
    "\n",
    "#rename columns\n",
    "match.columns = [\"Season\", \"Date\", \"Home_Team_ID\", \"Away_Team_ID\", \"Home_Goals\", \"Away_Goals\",\n",
    "                'home_player_1', 'home_player_2', 'home_player_3', \"home_player_4\", \"home_player_5\",\n",
    "                \"home_player_6\", \"home_player_7\", \"home_player_8\", \"home_player_9\", \"home_player_10\",\n",
    "                \"home_player_11\", \"away_player_1\", \"away_player_2\", \"away_player_3\", \"away_player_4\",\n",
    "                \"away_player_5\", \"away_player_6\", \"away_player_7\", \"away_player_8\", \"away_player_9\",\n",
    "                \"away_player_10\", \"away_player_11\"]"
   ]
  },
  {
   "cell_type": "code",
   "execution_count": 4,
   "metadata": {
    "collapsed": false
   },
   "outputs": [],
   "source": [
    "#what is currently present in the team member columns is the player's ID from the player attribute file.\n",
    "#Let's find aggregate measures by team using the data in the player attributes df\n",
    "\n",
    "match[\"HomeTeamRating\"] = 0\n",
    "match[\"AwayTeamRating\"] = 0\n",
    "match[\"HomeShortPass\"] = 0\n",
    "match[\"AwayShortPass\"] = 0\n",
    "match[\"HomeLongPass\"] = 0\n",
    "match[\"AwayLongPass\"] = 0\n",
    "match[\"HomeFreeKickAccuracy\"] = 0\n",
    "match[\"AwayFreeKickAccuracy\"] = 0\n",
    "match[\"HomeBallControl\"] = 0\n",
    "match[\"AwayBallControl\"] = 0\n",
    "match[\"HomeSprintSpeed\"] = 0\n",
    "match[\"AwaySprintSpeed\"] = 0\n",
    "match[\"HomeShotPower\"] = 0\n",
    "match[\"AwayShotPower\"] = 0\n",
    "match[\"HomeInterception\"] = 0\n",
    "match[\"AwayInterception\"] = 0\n",
    "match[\"HomePenalties\"] = 0\n",
    "match[\"AwayPenalties\"] = 0\n",
    "match[\"HomeStandingTackle\"] = 0\n",
    "match[\"AwayStandingTackle\"] = 0\n",
    "match[\"HomeSlindingTackle\"] = 0\n",
    "match[\"AwaySlindingTackle\"] = 0"
   ]
  },
  {
   "cell_type": "code",
   "execution_count": 5,
   "metadata": {
    "collapsed": false
   },
   "outputs": [],
   "source": [
    "for i in range(0, len(match[\"Home_Goals\"])):\n",
    "    #get all the player IDs\n",
    "    players = match.loc[i, ['home_player_1', 'home_player_2', 'home_player_3', \"home_player_4\", \"home_player_5\",\n",
    "            \"home_player_6\", \"home_player_7\", \"home_player_8\", \"home_player_9\", \"home_player_10\",\n",
    "            \"home_player_11\", \"away_player_1\", \"away_player_2\", \"away_player_3\", \"away_player_4\",\n",
    "            \"away_player_5\", \"away_player_6\", \"away_player_7\", \"away_player_8\", \"away_player_9\",\n",
    "            \"away_player_10\", \"away_player_11\"]]\n",
    "\n",
    "    for player in players[:11]: #home team\n",
    "        #get the stats for the player - this gives all the stats\n",
    "        player_stats = player_attributes.loc[player_attributes[\"player_api_id\"] == player, ]    \n",
    "        #now only take the rating on the day of the match\n",
    "        current_stats = player_stats[player_stats.date < match.loc[i, \"Date\"]].sort_values(by = 'date', ascending = False)[:1]\n",
    "        try:\n",
    "            match.loc[i, \"HomeTeamRating\"] = match.loc[i, \"HomeTeamRating\"] + current_stats.loc[current_stats.index[0], \"overall_rating\"] / 11\n",
    "            match.loc[i, \"HomeShortPass\"] = match.loc[i, \"HomeShortPass\"] + current_stats.loc[current_stats.index[0],\"short_passing\"] / 11\n",
    "            match.loc[i, \"HomeLongPass\"] = match.loc[i, \"HomeLongPass\"] + current_stats.loc[current_stats.index[0],\"long_passing\"] / 11\n",
    "            match.loc[i, \"HomeFreeKickAccuracy\"] = match.loc[i, \"HomeFreeKickAccuracy\"] + current_stats.loc[current_stats.index[0],\"free_kick_accuracy\"] / 11\n",
    "            match.loc[i, \"HomeBallControl\"] = match.loc[i, \"HomeBallControl\"] + current_stats.loc[current_stats.index[0],\"ball_control\"] / 11\n",
    "            match.loc[i, \"HomeSprintSpeed\"] = match.loc[i, \"HomeSprintSpeed\"] + current_stats.loc[current_stats.index[0],\"sprint_speed\"] / 11\n",
    "            match.loc[i, \"HomeShotPower\"] = match.loc[i, \"HomeShotPower\"] + current_stats.loc[current_stats.index[0],\"shot_power\"] / 11\n",
    "            match.loc[i, \"HomeInterception\"] = match.loc[i, \"HomeInterception\"] + current_stats.loc[current_stats.index[0],\"interceptions\"] / 11\n",
    "            match.loc[i, \"HomePenalties\"] = match.loc[i, \"HomePenalties\"] + current_stats.loc[current_stats.index[0],\"penalties\"] / 11\n",
    "            match.loc[i, \"HomeStandingTackle\"] = match.loc[i, \"HomeStandingTackle\"] + current_stats.loc[current_stats.index[0],\"standing_tackle\"] / 11\n",
    "            match.loc[i, \"HomeSlindingTackle\"] = match.loc[i, \"HomeSlindingTackle\"] + current_stats.loc[current_stats.index[0],\"sliding_tackle\"] / 11\n",
    "        except IndexError:\n",
    "            pass\n",
    "\n",
    "    for player in players[11:]: #away team\n",
    "        #get the stats for the player - this gives all the stats\n",
    "        player_stats = player_attributes.loc[player_attributes[\"player_api_id\"] == player, ]    \n",
    "        #now only take the rating on the day of the match\n",
    "        current_stats = player_stats[player_stats.date < match.loc[i, \"Date\"]].sort_values(by = 'date', ascending = False)[:1]\n",
    "        try:\n",
    "            match.loc[i, \"AwayTeamRating\"] = match.loc[i, \"AwayTeamRating\"] + current_stats.loc[current_stats.index[0], \"overall_rating\"] / 11\n",
    "            match.loc[i, \"AwayShortPass\"] = match.loc[i, \"AwayShortPass\"] + current_stats.loc[current_stats.index[0],\"short_passing\"] / 11\n",
    "            match.loc[i, \"AwayLongPass\"] = match.loc[i, \"AwayLongPass\"] + current_stats.loc[current_stats.index[0],\"long_passing\"] / 11\n",
    "            match.loc[i, \"AwayFreeKickAccuracy\"] = match.loc[i, \"AwayFreeKickAccuracy\"] + current_stats.loc[current_stats.index[0],\"free_kick_accuracy\"] / 11\n",
    "            match.loc[i, \"AwayBallControl\"] = match.loc[i, \"AwayBallControl\"] + current_stats.loc[current_stats.index[0],\"ball_control\"] / 11\n",
    "            match.loc[i, \"AwaySprintSpeed\"] = match.loc[i, \"AwaySprintSpeed\"] + current_stats.loc[current_stats.index[0],\"sprint_speed\"] / 11\n",
    "            match.loc[i, \"AwayShotPower\"] = match.loc[i, \"AwayShotPower\"] + current_stats.loc[current_stats.index[0],\"shot_power\"] / 11\n",
    "            match.loc[i, \"AwayInterception\"] = match.loc[i, \"AwayInterception\"] + current_stats.loc[current_stats.index[0],\"interceptions\"] / 11\n",
    "            match.loc[i, \"AwayPenalties\"] = match.loc[i, \"AwayPenalties\"] + current_stats.loc[current_stats.index[0],\"penalties\"] / 11\n",
    "            match.loc[i, \"AwayStandingTackle\"] = match.loc[i, \"AwayStandingTackle\"] + current_stats.loc[current_stats.index[0],\"standing_tackle\"] / 11\n",
    "            match.loc[i, \"AwaySlindingTackle\"] = match.loc[i, \"AwaySlindingTackle\"] + current_stats.loc[current_stats.index[0],\"sliding_tackle\"] / 11\n",
    "        except IndexError:\n",
    "            pass"
   ]
  },
  {
   "cell_type": "code",
   "execution_count": 6,
   "metadata": {
    "collapsed": false
   },
   "outputs": [],
   "source": [
    "#team data\n",
    "#extract those teams that took part in league = 1729\n",
    "hometeams = match[\"Home_Team_ID\"].unique()\n",
    "awayteams = match[\"Away_Team_ID\"].unique()\n",
    "leagueTeams = np.concatenate((hometeams, awayteams), axis = 0)\n",
    "team = team.loc[team['team_api_id'].isin(leagueTeams) ,] \n",
    "\n",
    "#get data for attendance of matches\n",
    "teamStats = pd.read_csv(\"Attendance.csv\")\n",
    "teamStats.columns = [\"Season\", \"Team\", \"Home Support\", \"Away Support\", \"Age\"]\n",
    "teamStats[\"Team_ID\"] = 0\n",
    "#add the column Away support to match\n",
    "#add team id to teamStats\n",
    "for i in teamStats[\"Team\"].unique():\n",
    "    try:\n",
    "        id = team.loc[team['team_long_name'] == i.strip() ,\"team_api_id\"]\n",
    "        teamStats.loc[teamStats[\"Team\"] == i, \"Team_ID\"] = id[id.index[0]]\n",
    "    except:\n",
    "        pass\n",
    "    \n",
    "#merge match and teamStats\n",
    "match = pd.merge(match, teamStats, how = \"left\", left_on = [\"Season\", \"Home_Team_ID\"], right_on = [\"Season\", \"Team_ID\"])\n",
    "\n",
    "#delete unwanted columns from match\n",
    "#match.drop('Stage', axis=1, inplace=True)\n",
    "match.drop('Team_ID', axis=1, inplace=True)\n",
    "match.drop('Team', axis=1, inplace=True)"
   ]
  },
  {
   "cell_type": "code",
   "execution_count": 7,
   "metadata": {
    "collapsed": true
   },
   "outputs": [],
   "source": [
    "#create a class variable for \"Win\", \"Lose\", \"Tie\" - WRT home team\n",
    "match[\"Outcome\"] = 0\n",
    "for i in range(0, len(match[\"Outcome\"])):\n",
    "    home_goals = match.loc[i, \"Home_Goals\"]\n",
    "    away_goals = match.loc[i, \"Away_Goals\"]\n",
    "    if home_goals > away_goals:\n",
    "        match.loc[i,'Outcome'] = 2\n",
    "    elif home_goals == away_goals:\n",
    "        match.loc[i,'Outcome'] = 1\n",
    "    elif home_goals < away_goals:\n",
    "        match.loc[i,'Outcome'] = 0"
   ]
  },
  {
   "cell_type": "code",
   "execution_count": 8,
   "metadata": {
    "collapsed": true
   },
   "outputs": [],
   "source": [
    "def getLastXMatchesResults_Home(date, team, x = 10):    \n",
    "    #Filter team matches from matches\n",
    "    teamMatches = match[(match['Home_Team_ID'] == team)]                           \n",
    "    #Filter x last matches from team matches\n",
    "    xMatches = teamMatches[teamMatches.Date < date].sort_values(by = 'Date', ascending = False).iloc[0:x,:]\n",
    "    #Calculate win percentage\n",
    "    won = len(xMatches['Outcome'] == 2) / 10\n",
    "    return won\n",
    "\n",
    "def getLastXMatchesResults_Away(date, team, x = 10):    \n",
    "    #Filter team matches from matches\n",
    "    teamMatches = match[(match['Away_Team_ID'] == team)]                           \n",
    "    #Filter x last matches from team matches\n",
    "    xMatches = teamMatches[teamMatches.Date < date].sort_values(by = 'Date', ascending = False).iloc[0:x,:]\n",
    "    #Calculate win percentage\n",
    "    won = len(xMatches['Outcome'] == 2) / 10\n",
    "    return won\n",
    "    \n",
    "def getLastXMatchesResultsAgainstEachOther(date, home_team, away_team, x = 10):    \n",
    "    #Find matches of both teams\n",
    "    homeMatches = match[(match['Home_Team_ID'] == home_team) & (match['Away_Team_ID'] == away_team)]    \n",
    "    awayMatches = match[(match['Home_Team_ID'] == away_team) & (match['Away_Team_ID'] == home_team)] \n",
    "    #Get last x matches - Home\n",
    "    try:    \n",
    "        xMatches = homeMatches[homeMatches.Date < date].sort_values(by = 'Date', ascending = False).iloc[0:x,:]\n",
    "        homeWin = len(xMatches['Outcome'] == 2) / 10\n",
    "    except:\n",
    "        xMatches = homeMatches[homeMatches.Date < date].sort_values(by = 'Date', ascending = False).iloc[0:homeMatches.shape[0],:]\n",
    "        homeWin = 0\n",
    "        #Check for error in data\n",
    "        if(xMatches.shape[0] > x):\n",
    "            print(\"Error in obtaining matches\")\n",
    "    \n",
    "    #Get last x matches - Away\n",
    "    try:    \n",
    "        xMatches = awayMatches[awayMatches.Date < date].sort_values(by = 'Date', ascending = False).iloc[0:x,:]\n",
    "        awayWin = len(xMatches['Outcome'] == 2) / 10\n",
    "    except:\n",
    "        xMatches = awayMatches[awayMatches.Date < date].sort_values(by = 'Date', ascending = False).iloc[0:awayMatches.shape[0],:]\n",
    "        awayWin = 0\n",
    "        #Check for error in data\n",
    "        if(xMatches.shape[0] > x):\n",
    "            print(\"Error in obtaining matches\")\n",
    "    \n",
    "            \n",
    "    #Return data\n",
    "    return np.array([homeWin, awayWin])\n"
   ]
  },
  {
   "cell_type": "code",
   "execution_count": 9,
   "metadata": {
    "collapsed": true
   },
   "outputs": [],
   "source": [
    "#create columns for last X matches\n",
    "match[\"HomeTeamWins_Home\"] = 0\n",
    "match[\"HomeTeamWins_Away\"] = 0\n",
    "match[\"AwayTeamWins_Home\"] = 0\n",
    "match[\"AwayTeamWins_Away\"] = 0\n",
    "match[\"HomeVsAway_Home\"] = 0\n",
    "match[\"HomeVsAway_Away\"] = 0\n",
    "\n",
    "for i in range(0, len(match[\"Season\"])):\n",
    "    match.loc[i, \"HomeTeamWins_Home\"] = getLastXMatchesResults_Home(match.loc[i, \"Date\"],  match.loc[i, \"Home_Team_ID\"])\n",
    "    match.loc[i, \"HomeTeamWins_Away\"] = getLastXMatchesResults_Away(match.loc[i, \"Date\"],  match.loc[i, \"Home_Team_ID\"])\n",
    "    match.loc[i, \"AwayTeamWins_Home\"] = getLastXMatchesResults_Home(match.loc[i, \"Date\"],  match.loc[i, \"Away_Team_ID\"])\n",
    "    match.loc[i, \"AwayTeamWins_Away\"] = getLastXMatchesResults_Away(match.loc[i, \"Date\"],  match.loc[i, \"Away_Team_ID\"])\n",
    "    temp =  getLastXMatchesResultsAgainstEachOther(match.loc[i, \"Date\"],match.loc[i, \"Home_Team_ID\"],match.loc[i, \"Away_Team_ID\"])\n",
    "    match.loc[i, \"HomeVsAway_Home\"] = temp[0]\n",
    "    match.loc[i, \"HomeVsAway_Away\"] = temp[1]"
   ]
  },
  {
   "cell_type": "code",
   "execution_count": 10,
   "metadata": {
    "collapsed": false
   },
   "outputs": [],
   "source": [
    "#check for missing values - filling them with 0\n",
    "match.isnull().values.any()\n",
    "match = match.fillna(value = 0)"
   ]
  },
  {
   "cell_type": "code",
   "execution_count": null,
   "metadata": {
    "collapsed": true
   },
   "outputs": [],
   "source": [
    "#make the outcome column the last one\n",
    "match.insert(len(match.columns),'Outcome1', match['Outcome'])\n",
    "match.drop('Outcome', axis = 1, inplace = True)\n",
    "match.rename(columns = {'Outcome1':'Outcome'}, inplace = True)"
   ]
  },
  {
   "cell_type": "code",
   "execution_count": 11,
   "metadata": {
    "collapsed": true
   },
   "outputs": [],
   "source": [
    "match.to_csv(\"DataSetForClassification.csv\")"
   ]
  },
  {
   "cell_type": "code",
   "execution_count": null,
   "metadata": {
    "collapsed": true
   },
   "outputs": [],
   "source": []
  }
 ],
 "metadata": {
  "anaconda-cloud": {},
  "kernelspec": {
   "display_name": "Python [conda root]",
   "language": "python",
   "name": "conda-root-py"
  },
  "language_info": {
   "codemirror_mode": {
    "name": "ipython",
    "version": 3
   },
   "file_extension": ".py",
   "mimetype": "text/x-python",
   "name": "python",
   "nbconvert_exporter": "python",
   "pygments_lexer": "ipython3",
   "version": "3.5.2"
  },
  "nbpresent": {
   "slides": {
    "abefdd6f-4489-41f6-83d6-d7f70ad6fcd8": {
     "id": "abefdd6f-4489-41f6-83d6-d7f70ad6fcd8",
     "layout": "grid",
     "prev": null,
     "regions": {
      "00ada303-dcc5-47fc-828d-497d9aec5b75": {
       "attrs": {
        "height": 1,
        "pad": 0.01,
        "treemap:weight": 1,
        "width": 1,
        "x": 0,
        "y": 0
       },
       "id": "00ada303-dcc5-47fc-828d-497d9aec5b75"
      }
     }
    }
   },
   "themes": {}
  }
 },
 "nbformat": 4,
 "nbformat_minor": 0
}
