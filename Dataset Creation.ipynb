{
 "cells": [
  {
   "cell_type": "code",
   "execution_count": 1,
   "metadata": {
    "collapsed": true
   },
   "outputs": [],
   "source": [
    "from sklearn import svm \n",
    "from sklearn.model_selection import cross_val_score\n",
    "from sklearn.svm import LinearSVC\n",
    "import numpy as np\n",
    "import pandas as pd\n",
    "import matplotlib.pyplot as plt\n",
    "import sqlite3\n",
    "%matplotlib inline\n",
    "\n",
    "from datetime import datetime\n",
    "import time\n",
    "\n",
    "import warnings\n",
    "warnings.simplefilter(\"ignore\")"
   ]
  },
  {
   "cell_type": "code",
   "execution_count": 2,
   "metadata": {
    "collapsed": true
   },
   "outputs": [],
   "source": [
    "# Create a SQL connection to our SQLite database\n",
    "con = sqlite3.connect(\"soccerdata.sqlite\")\n",
    "\n",
    "match =  pd.read_sql_query(\"SELECT * FROM Match where league_id = 1729\", con)\n",
    "team =  pd.read_sql_query(\"SELECT * FROM Team\", con)\n",
    "player_attributes =  pd.read_sql_query(\"SELECT * FROM Player_Attributes\", con)\n",
    "\n",
    "#Be sure to close the connection.\n",
    "con.close()"
   ]
  },
  {
   "cell_type": "code",
   "execution_count": 3,
   "metadata": {
    "collapsed": true
   },
   "outputs": [],
   "source": [
    "#match data\n",
    "match = match[['season','date', 'home_team_api_id', 'away_team_api_id', 'home_team_goal', 'away_team_goal',\n",
    "           'home_player_1', 'home_player_2', 'home_player_3', \"home_player_4\", \"home_player_5\",\n",
    "            \"home_player_6\", \"home_player_7\", \"home_player_8\", \"home_player_9\", \"home_player_10\",\n",
    "            \"home_player_11\", \"away_player_1\", \"away_player_2\", \"away_player_3\", \"away_player_4\",\n",
    "            \"away_player_5\", \"away_player_6\", \"away_player_7\", \"away_player_8\", \"away_player_9\",\n",
    "            \"away_player_10\", \"away_player_11\"]]\n",
    "match.index = range(0, len(match[\"date\"]))\n",
    "\n",
    "#rename columns\n",
    "match.columns = [\"Season\", \"Date\", \"Home_Team_ID\", \"Away_Team_ID\", \"Home_Goals\", \"Away_Goals\",\n",
    "                'home_player_1', 'home_player_2', 'home_player_3', \"home_player_4\", \"home_player_5\",\n",
    "                \"home_player_6\", \"home_player_7\", \"home_player_8\", \"home_player_9\", \"home_player_10\",\n",
    "                \"home_player_11\", \"away_player_1\", \"away_player_2\", \"away_player_3\", \"away_player_4\",\n",
    "                \"away_player_5\", \"away_player_6\", \"away_player_7\", \"away_player_8\", \"away_player_9\",\n",
    "                \"away_player_10\", \"away_player_11\"]"
   ]
  },
  {
   "cell_type": "code",
   "execution_count": 4,
   "metadata": {
    "collapsed": false
   },
   "outputs": [],
   "source": [
    "#what is currently present in the team member columns is the player's ID from the player attribute file.\n",
    "#Let's find aggregate measures by team using the data in the player attributes df\n",
    "\n",
    "match[\"HomeTeamRating\"] = 0\n",
    "match[\"AwayTeamRating\"] = 0\n",
    "match[\"HomeShortPass\"] = 0\n",
    "match[\"AwayShortPass\"] = 0\n",
    "match[\"HomeLongPass\"] = 0\n",
    "match[\"AwayLongPass\"] = 0\n",
    "match[\"HomeFreeKickAccuracy\"] = 0\n",
    "match[\"AwayFreeKickAccuracy\"] = 0\n",
    "match[\"HomeBallControl\"] = 0\n",
    "match[\"AwayBallControl\"] = 0\n",
    "match[\"HomeSprintSpeed\"] = 0\n",
    "match[\"AwaySprintSpeed\"] = 0\n",
    "match[\"HomeShotPower\"] = 0\n",
    "match[\"AwayShotPower\"] = 0\n",
    "match[\"HomeInterception\"] = 0\n",
    "match[\"AwayInterception\"] = 0\n",
    "match[\"HomePenalties\"] = 0\n",
    "match[\"AwayPenalties\"] = 0\n",
    "match[\"HomeStandingTackle\"] = 0\n",
    "match[\"AwayStandingTackle\"] = 0\n",
    "match[\"HomeSlindingTackle\"] = 0\n",
    "match[\"AwaySlindingTackle\"] = 0"
   ]
  },
  {
   "cell_type": "code",
   "execution_count": 5,
   "metadata": {
    "collapsed": false
   },
   "outputs": [],
   "source": [
    "for i in range(0, len(match[\"Home_Goals\"])):\n",
    "    #get all the player IDs\n",
    "    players = match.loc[i, ['home_player_1', 'home_player_2', 'home_player_3', \"home_player_4\", \"home_player_5\",\n",
    "            \"home_player_6\", \"home_player_7\", \"home_player_8\", \"home_player_9\", \"home_player_10\",\n",
    "            \"home_player_11\", \"away_player_1\", \"away_player_2\", \"away_player_3\", \"away_player_4\",\n",
    "            \"away_player_5\", \"away_player_6\", \"away_player_7\", \"away_player_8\", \"away_player_9\",\n",
    "            \"away_player_10\", \"away_player_11\"]]\n",
    "\n",
    "    for player in players[:11]: #home team\n",
    "        #get the stats for the player - this gives all the stats\n",
    "        player_stats = player_attributes.loc[player_attributes[\"player_api_id\"] == player, ]    \n",
    "        #now only take the rating on the day of the match\n",
    "        current_stats = player_stats[player_stats.date < match.loc[i, \"Date\"]].sort_values(by = 'date', ascending = False)[:1]\n",
    "        try:\n",
    "            match.loc[i, \"HomeTeamRating\"] = match.loc[i, \"HomeTeamRating\"] + current_stats.loc[current_stats.index[0], \"overall_rating\"] / 11\n",
    "            match.loc[i, \"HomeShortPass\"] = match.loc[i, \"HomeShortPass\"] + current_stats.loc[current_stats.index[0],\"short_passing\"] / 11\n",
    "            match.loc[i, \"HomeLongPass\"] = match.loc[i, \"HomeLongPass\"] + current_stats.loc[current_stats.index[0],\"long_passing\"] / 11\n",
    "            match.loc[i, \"HomeFreeKickAccuracy\"] = match.loc[i, \"HomeFreeKickAccuracy\"] + current_stats.loc[current_stats.index[0],\"free_kick_accuracy\"] / 11\n",
    "            match.loc[i, \"HomeBallControl\"] = match.loc[i, \"HomeBallControl\"] + current_stats.loc[current_stats.index[0],\"ball_control\"] / 11\n",
    "            match.loc[i, \"HomeSprintSpeed\"] = match.loc[i, \"HomeSprintSpeed\"] + current_stats.loc[current_stats.index[0],\"sprint_speed\"] / 11\n",
    "            match.loc[i, \"HomeShotPower\"] = match.loc[i, \"HomeShotPower\"] + current_stats.loc[current_stats.index[0],\"shot_power\"] / 11\n",
    "            match.loc[i, \"HomeInterception\"] = match.loc[i, \"HomeInterception\"] + current_stats.loc[current_stats.index[0],\"interceptions\"] / 11\n",
    "            match.loc[i, \"HomePenalties\"] = match.loc[i, \"HomePenalties\"] + current_stats.loc[current_stats.index[0],\"penalties\"] / 11\n",
    "            match.loc[i, \"HomeStandingTackle\"] = match.loc[i, \"HomeStandingTackle\"] + current_stats.loc[current_stats.index[0],\"standing_tackle\"] / 11\n",
    "            match.loc[i, \"HomeSlindingTackle\"] = match.loc[i, \"HomeSlindingTackle\"] + current_stats.loc[current_stats.index[0],\"sliding_tackle\"] / 11\n",
    "        except IndexError:\n",
    "            pass\n",
    "\n",
    "    for player in players[11:]: #away team\n",
    "        #get the stats for the player - this gives all the stats\n",
    "        player_stats = player_attributes.loc[player_attributes[\"player_api_id\"] == player, ]    \n",
    "        #now only take the rating on the day of the match\n",
    "        current_stats = player_stats[player_stats.date < match.loc[i, \"Date\"]].sort_values(by = 'date', ascending = False)[:1]\n",
    "        try:\n",
    "            match.loc[i, \"AwayTeamRating\"] = match.loc[i, \"AwayTeamRating\"] + current_stats.loc[current_stats.index[0], \"overall_rating\"] / 11\n",
    "            match.loc[i, \"AwayShortPass\"] = match.loc[i, \"AwayShortPass\"] + current_stats.loc[current_stats.index[0],\"short_passing\"] / 11\n",
    "            match.loc[i, \"AwayLongPass\"] = match.loc[i, \"AwayLongPass\"] + current_stats.loc[current_stats.index[0],\"long_passing\"] / 11\n",
    "            match.loc[i, \"AwayFreeKickAccuracy\"] = match.loc[i, \"AwayFreeKickAccuracy\"] + current_stats.loc[current_stats.index[0],\"free_kick_accuracy\"] / 11\n",
    "            match.loc[i, \"AwayBallControl\"] = match.loc[i, \"AwayBallControl\"] + current_stats.loc[current_stats.index[0],\"ball_control\"] / 11\n",
    "            match.loc[i, \"AwaySprintSpeed\"] = match.loc[i, \"AwaySprintSpeed\"] + current_stats.loc[current_stats.index[0],\"sprint_speed\"] / 11\n",
    "            match.loc[i, \"AwayShotPower\"] = match.loc[i, \"AwayShotPower\"] + current_stats.loc[current_stats.index[0],\"shot_power\"] / 11\n",
    "            match.loc[i, \"AwayInterception\"] = match.loc[i, \"AwayInterception\"] + current_stats.loc[current_stats.index[0],\"interceptions\"] / 11\n",
    "            match.loc[i, \"AwayPenalties\"] = match.loc[i, \"AwayPenalties\"] + current_stats.loc[current_stats.index[0],\"penalties\"] / 11\n",
    "            match.loc[i, \"AwayStandingTackle\"] = match.loc[i, \"AwayStandingTackle\"] + current_stats.loc[current_stats.index[0],\"standing_tackle\"] / 11\n",
    "            match.loc[i, \"AwaySlindingTackle\"] = match.loc[i, \"AwaySlindingTackle\"] + current_stats.loc[current_stats.index[0],\"sliding_tackle\"] / 11\n",
    "        except IndexError:\n",
    "            pass"
   ]
  },
  {
   "cell_type": "code",
   "execution_count": 6,
   "metadata": {
    "collapsed": false
   },
   "outputs": [],
   "source": [
    "#team data\n",
    "#extract those teams that took part in league = 1729\n",
    "hometeams = match[\"Home_Team_ID\"].unique()\n",
    "awayteams = match[\"Away_Team_ID\"].unique()\n",
    "leagueTeams = np.concatenate((hometeams, awayteams), axis = 0)\n",
    "team = team.loc[team['team_api_id'].isin(leagueTeams) ,] \n",
    "\n",
    "#get data for attendance of matches\n",
    "teamStats = pd.read_csv(\"Attendance.csv\")\n",
    "teamStats.columns = [\"Season\", \"Team\", \"Home Support\", \"Away Support\", \"Age\"]\n",
    "teamStats[\"Team_ID\"] = 0\n",
    "#add the column Away support to match\n",
    "#add team id to teamStats\n",
    "for i in teamStats[\"Team\"].unique():\n",
    "    try:\n",
    "        id = team.loc[team['team_long_name'] == i.strip() ,\"team_api_id\"]\n",
    "        teamStats.loc[teamStats[\"Team\"] == i, \"Team_ID\"] = id[id.index[0]]\n",
    "    except:\n",
    "        pass\n",
    "    \n",
    "#merge match and teamStats\n",
    "match = pd.merge(match, teamStats, how = \"left\", left_on = [\"Season\", \"Home_Team_ID\"], right_on = [\"Season\", \"Team_ID\"])\n",
    "match = pd.merge(match, teamStats, how = \"left\", left_on = [\"Season\", \"Away_Team_ID\"], right_on = [\"Season\", \"Team_ID\"])"
   ]
  },
  {
   "cell_type": "code",
   "execution_count": 7,
   "metadata": {
    "collapsed": false
   },
   "outputs": [
    {
     "data": {
      "text/html": [
       "<div>\n",
       "<table border=\"1\" class=\"dataframe\">\n",
       "  <thead>\n",
       "    <tr style=\"text-align: right;\">\n",
       "      <th></th>\n",
       "      <th>Season</th>\n",
       "      <th>Date</th>\n",
       "      <th>Home_Team_ID</th>\n",
       "      <th>Away_Team_ID</th>\n",
       "      <th>Home_Goals</th>\n",
       "      <th>Away_Goals</th>\n",
       "      <th>home_player_1</th>\n",
       "      <th>home_player_2</th>\n",
       "      <th>home_player_3</th>\n",
       "      <th>home_player_4</th>\n",
       "      <th>...</th>\n",
       "      <th>HomePenalties</th>\n",
       "      <th>AwayPenalties</th>\n",
       "      <th>HomeStandingTackle</th>\n",
       "      <th>AwayStandingTackle</th>\n",
       "      <th>HomeSlindingTackle</th>\n",
       "      <th>AwaySlindingTackle</th>\n",
       "      <th>Home Support_x</th>\n",
       "      <th>Away Support_x</th>\n",
       "      <th>Age_x</th>\n",
       "      <th>Age_y</th>\n",
       "    </tr>\n",
       "  </thead>\n",
       "  <tbody>\n",
       "    <tr>\n",
       "      <th>0</th>\n",
       "      <td>2008/2009</td>\n",
       "      <td>2008-08-17 00:00:00</td>\n",
       "      <td>10260</td>\n",
       "      <td>10261</td>\n",
       "      <td>1</td>\n",
       "      <td>1</td>\n",
       "      <td>30726</td>\n",
       "      <td>30362.0</td>\n",
       "      <td>30620</td>\n",
       "      <td>30865</td>\n",
       "      <td>...</td>\n",
       "      <td>79.545455</td>\n",
       "      <td>69.727273</td>\n",
       "      <td>62.818182</td>\n",
       "      <td>56.090909</td>\n",
       "      <td>60.636364</td>\n",
       "      <td>NaN</td>\n",
       "      <td>67773.6</td>\n",
       "      <td>7530.4</td>\n",
       "      <td>27.0</td>\n",
       "      <td>26.6</td>\n",
       "    </tr>\n",
       "    <tr>\n",
       "      <th>1</th>\n",
       "      <td>2008/2009</td>\n",
       "      <td>2008-08-16 00:00:00</td>\n",
       "      <td>9825</td>\n",
       "      <td>8659</td>\n",
       "      <td>1</td>\n",
       "      <td>0</td>\n",
       "      <td>23686</td>\n",
       "      <td>26111.0</td>\n",
       "      <td>38835</td>\n",
       "      <td>30986</td>\n",
       "      <td>...</td>\n",
       "      <td>69.636364</td>\n",
       "      <td>67.636364</td>\n",
       "      <td>56.181818</td>\n",
       "      <td>57.181818</td>\n",
       "      <td>60.636364</td>\n",
       "      <td>54.545455</td>\n",
       "      <td>54036.0</td>\n",
       "      <td>6004.0</td>\n",
       "      <td>24.0</td>\n",
       "      <td>25.1</td>\n",
       "    </tr>\n",
       "    <tr>\n",
       "      <th>2</th>\n",
       "      <td>2008/2009</td>\n",
       "      <td>2008-08-16 00:00:00</td>\n",
       "      <td>8472</td>\n",
       "      <td>8650</td>\n",
       "      <td>0</td>\n",
       "      <td>1</td>\n",
       "      <td>32562</td>\n",
       "      <td>38836.0</td>\n",
       "      <td>24446</td>\n",
       "      <td>24408</td>\n",
       "      <td>...</td>\n",
       "      <td>65.727273</td>\n",
       "      <td>76.000000</td>\n",
       "      <td>55.000000</td>\n",
       "      <td>58.090909</td>\n",
       "      <td>53.090909</td>\n",
       "      <td>54.545455</td>\n",
       "      <td>36151.2</td>\n",
       "      <td>4016.8</td>\n",
       "      <td>26.0</td>\n",
       "      <td>26.4</td>\n",
       "    </tr>\n",
       "    <tr>\n",
       "      <th>3</th>\n",
       "      <td>2008/2009</td>\n",
       "      <td>2008-08-16 00:00:00</td>\n",
       "      <td>8654</td>\n",
       "      <td>8528</td>\n",
       "      <td>2</td>\n",
       "      <td>1</td>\n",
       "      <td>36374</td>\n",
       "      <td>30966.0</td>\n",
       "      <td>23818</td>\n",
       "      <td>37277</td>\n",
       "      <td>...</td>\n",
       "      <td>71.545455</td>\n",
       "      <td>66.454545</td>\n",
       "      <td>59.181818</td>\n",
       "      <td>51.818182</td>\n",
       "      <td>NaN</td>\n",
       "      <td>NaN</td>\n",
       "      <td>30330.0</td>\n",
       "      <td>3370.0</td>\n",
       "      <td>26.4</td>\n",
       "      <td>26.4</td>\n",
       "    </tr>\n",
       "    <tr>\n",
       "      <th>4</th>\n",
       "      <td>2008/2009</td>\n",
       "      <td>2008-08-17 00:00:00</td>\n",
       "      <td>10252</td>\n",
       "      <td>8456</td>\n",
       "      <td>4</td>\n",
       "      <td>2</td>\n",
       "      <td>30380</td>\n",
       "      <td>30357.0</td>\n",
       "      <td>24658</td>\n",
       "      <td>43280</td>\n",
       "      <td>...</td>\n",
       "      <td>73.181818</td>\n",
       "      <td>54.545455</td>\n",
       "      <td>60.272727</td>\n",
       "      <td>51.545455</td>\n",
       "      <td>NaN</td>\n",
       "      <td>45.636364</td>\n",
       "      <td>35830.8</td>\n",
       "      <td>3981.2</td>\n",
       "      <td>27.0</td>\n",
       "      <td>24.3</td>\n",
       "    </tr>\n",
       "  </tbody>\n",
       "</table>\n",
       "<p>5 rows × 54 columns</p>\n",
       "</div>"
      ],
      "text/plain": [
       "      Season                 Date  Home_Team_ID  Away_Team_ID  Home_Goals  \\\n",
       "0  2008/2009  2008-08-17 00:00:00         10260         10261           1   \n",
       "1  2008/2009  2008-08-16 00:00:00          9825          8659           1   \n",
       "2  2008/2009  2008-08-16 00:00:00          8472          8650           0   \n",
       "3  2008/2009  2008-08-16 00:00:00          8654          8528           2   \n",
       "4  2008/2009  2008-08-17 00:00:00         10252          8456           4   \n",
       "\n",
       "   Away_Goals  home_player_1  home_player_2  home_player_3  home_player_4  \\\n",
       "0           1          30726        30362.0          30620          30865   \n",
       "1           0          23686        26111.0          38835          30986   \n",
       "2           1          32562        38836.0          24446          24408   \n",
       "3           1          36374        30966.0          23818          37277   \n",
       "4           2          30380        30357.0          24658          43280   \n",
       "\n",
       "   ...    HomePenalties  AwayPenalties  HomeStandingTackle  \\\n",
       "0  ...        79.545455      69.727273           62.818182   \n",
       "1  ...        69.636364      67.636364           56.181818   \n",
       "2  ...        65.727273      76.000000           55.000000   \n",
       "3  ...        71.545455      66.454545           59.181818   \n",
       "4  ...        73.181818      54.545455           60.272727   \n",
       "\n",
       "   AwayStandingTackle  HomeSlindingTackle  AwaySlindingTackle  Home Support_x  \\\n",
       "0           56.090909           60.636364                 NaN         67773.6   \n",
       "1           57.181818           60.636364           54.545455         54036.0   \n",
       "2           58.090909           53.090909           54.545455         36151.2   \n",
       "3           51.818182                 NaN                 NaN         30330.0   \n",
       "4           51.545455                 NaN           45.636364         35830.8   \n",
       "\n",
       "   Away Support_x  Age_x  Age_y  \n",
       "0          7530.4   27.0   26.6  \n",
       "1          6004.0   24.0   25.1  \n",
       "2          4016.8   26.0   26.4  \n",
       "3          3370.0   26.4   26.4  \n",
       "4          3981.2   27.0   24.3  \n",
       "\n",
       "[5 rows x 54 columns]"
      ]
     },
     "execution_count": 7,
     "metadata": {},
     "output_type": "execute_result"
    }
   ],
   "source": [
    "#delete unwanted columns from match\n",
    "match.drop('Team_ID_x', axis=1, inplace=True)\n",
    "match.drop('Team_x', axis=1, inplace=True)\n",
    "match.drop('Team_ID_y', axis=1, inplace=True)\n",
    "match.drop('Team_y', axis=1, inplace=True)\n",
    "match.drop('Home Support_y', axis=1, inplace=True)\n",
    "match.drop('Away Support_y', axis=1, inplace=True)\n",
    "match.head()"
   ]
  },
  {
   "cell_type": "code",
   "execution_count": 8,
   "metadata": {
    "collapsed": false
   },
   "outputs": [],
   "source": [
    "#create a class variable for \"Win\", \"Lose\", \"Tie\" - WRT home team\n",
    "#also format the Date to contain just the date in the format of dd-mm-yyyy\n",
    "match[\"Outcome\"] = 0\n",
    "for i in range(0, len(match[\"Outcome\"])):\n",
    "    home_goals = match.loc[i, \"Home_Goals\"]\n",
    "    away_goals = match.loc[i, \"Away_Goals\"]\n",
    "    if home_goals > away_goals:\n",
    "        match.loc[i,'Outcome'] = 2\n",
    "    elif home_goals == away_goals:\n",
    "        match.loc[i,'Outcome'] = 1\n",
    "    elif home_goals < away_goals:\n",
    "        match.loc[i,'Outcome'] = 0\n",
    "    match.loc[i,\"Date\"] = datetime.strptime(match.loc[i,\"Date\"][:10],\"%Y-%m-%d\" ).date()"
   ]
  },
  {
   "cell_type": "code",
   "execution_count": 9,
   "metadata": {
    "collapsed": false
   },
   "outputs": [],
   "source": [
    "def getLastXMatchesResults_Home(date, team, x = 10):    \n",
    "    #Filter team matches from matches\n",
    "    teamMatches = match[(match['Home_Team_ID'] == team)]\n",
    "    #Filter x last matches from team matches\n",
    "    xMatches = teamMatches[teamMatches.Date < date].sort_values(by = 'Date', ascending = False).iloc[0:x,:]\n",
    "    #Calculate win percentage   \n",
    "    try:        \n",
    "        won = len(xMatches[(xMatches['Outcome'] == 2)]) / len(xMatches['Outcome'])\n",
    "    except ZeroDivisionError:\n",
    "        won = 0\n",
    "    except:\n",
    "        won = -1\n",
    "    return won\n",
    "\n",
    "def getLastXMatchesResults_Away(date, team, x = 10):\n",
    "    #Filter team matches from matches\n",
    "    teamMatches = match[(match['Away_Team_ID'] == team)]\n",
    "    #Filter x last matches from team matches\n",
    "    xMatches = teamMatches[teamMatches.Date < date].sort_values(by = 'Date', ascending = False).iloc[0:x,:]\n",
    "    #Calculate win percentage\n",
    "    try:\n",
    "        won = len(xMatches[(xMatches['Outcome'] == 0)]) / len(xMatches['Outcome'])\n",
    "    except ZeroDivisionError:\n",
    "        won = 0\n",
    "    except:\n",
    "        won = -1\n",
    "    return won\n",
    "    \n",
    "def getLastXMatchesResultsAgainstEachOther(date, home_team, away_team, x = 10):    \n",
    "    #Find matches of both teams\n",
    "    homeMatches = match[(match['Home_Team_ID'] == home_team) & (match['Away_Team_ID'] == away_team)]    \n",
    "    awayMatches = match[(match['Home_Team_ID'] == away_team) & (match['Away_Team_ID'] == home_team)] \n",
    "    #Get last x matches - Home\n",
    "    try:\n",
    "        xMatches = homeMatches[homeMatches.Date < date].sort_values(by = 'Date', ascending = False).iloc[0:x,:]\n",
    "        homeWin = len(xMatches[(xMatches['Outcome'] == 2)]) / len(xMatches['Outcome'])\n",
    "    except ZeroDivisionError:\n",
    "        homeWin = 0\n",
    "    except:\n",
    "        homeWin = -1\n",
    "    #Get last x matches - Away  \n",
    "    try:\n",
    "        xMatches = awayMatches[awayMatches.Date < date].sort_values(by = 'Date', ascending = False).iloc[0:x,:]\n",
    "        awayWin = len(xMatches[(xMatches['Outcome'] == 0)]) / len(xMatches['Outcome'])\n",
    "    except ZeroDivisionError:\n",
    "        awayWin = 0\n",
    "    except:\n",
    "        awayWin = -1\n",
    "            \n",
    "    #Return data\n",
    "    return np.array([homeWin, awayWin])\n"
   ]
  },
  {
   "cell_type": "code",
   "execution_count": 10,
   "metadata": {
    "collapsed": false
   },
   "outputs": [],
   "source": [
    "#create columns for last X matches\n",
    "match[\"HomeTeamWins_Home\"] = 0\n",
    "match[\"HomeTeamWins_Away\"] = 0\n",
    "match[\"AwayTeamWins_Home\"] = 0\n",
    "match[\"AwayTeamWins_Away\"] = 0\n",
    "match[\"HomeVsAway_Home\"] = 0\n",
    "match[\"HomeVsAway_Away\"] = 0\n",
    "\n",
    "for i in range(0, len(match[\"Season\"])):\n",
    "    match.loc[i, \"HomeTeamWins_Home\"] = getLastXMatchesResults_Home(match.loc[i, \"Date\"],  match.loc[i, \"Home_Team_ID\"], 15)\n",
    "    match.loc[i, \"HomeTeamWins_Away\"] = getLastXMatchesResults_Away(match.loc[i, \"Date\"],  match.loc[i, \"Home_Team_ID\"], 15)\n",
    "    match.loc[i, \"AwayTeamWins_Home\"] = getLastXMatchesResults_Home(match.loc[i, \"Date\"],  match.loc[i, \"Away_Team_ID\"], 15)\n",
    "    match.loc[i, \"AwayTeamWins_Away\"] = getLastXMatchesResults_Away(match.loc[i, \"Date\"],  match.loc[i, \"Away_Team_ID\"], 15)\n",
    "    temp =  getLastXMatchesResultsAgainstEachOther(match.loc[i, \"Date\"],match.loc[i, \"Home_Team_ID\"],match.loc[i, \"Away_Team_ID\"], 3)\n",
    "    match.loc[i, \"HomeVsAway_Home\"] = temp[0]\n",
    "    match.loc[i, \"HomeVsAway_Away\"] = temp[1]"
   ]
  },
  {
   "cell_type": "code",
   "execution_count": 11,
   "metadata": {
    "collapsed": false
   },
   "outputs": [],
   "source": [
    "#check for missing values - filling them with 0\n",
    "match.isnull().values.any()\n",
    "match = match.fillna(value = 0)"
   ]
  },
  {
   "cell_type": "code",
   "execution_count": 12,
   "metadata": {
    "collapsed": false
   },
   "outputs": [],
   "source": [
    "match.to_csv(\"DataSetForClassification.csv\")"
   ]
  },
  {
   "cell_type": "code",
   "execution_count": null,
   "metadata": {
    "collapsed": false
   },
   "outputs": [],
   "source": [
    "match = pd.read_csv(\"DataSetForClassification.csv\")\n",
    "teamAttributes= pd.read_csv(\"TeamAttributesFinalMerge.csv\") \n",
    "\n",
    "match = pd.merge(match, teamAttributes, how = \"left\", left_on = [\"Season\", \"Home_Team_ID\"], right_on = [\"seasons\", \"teamID\"])\n",
    "\n",
    "finalMatch = pd.merge(match, teamAttributes, how = \"left\", left_on = [\"Season\", \"Away_Team_ID\"], right_on = [\"seasons\", \"teamID\"])\n",
    "\n",
    "finalMatch.columns"
   ]
  },
  {
   "cell_type": "code",
   "execution_count": null,
   "metadata": {
    "collapsed": false,
    "scrolled": true
   },
   "outputs": [],
   "source": [
    "finalMatch.drop('teamID_y', axis=1, inplace=True)\n",
    "finalMatch.drop('teamID_x', axis=1, inplace=True)\n",
    "finalMatch.drop('seasons_x', axis=1, inplace=True)\n",
    "finalMatch.drop('seasons_y', axis=1, inplace=True)\n",
    "finalMatch.drop('Unnamed: 0', axis=1, inplace=True)\n",
    "finalMatch.drop('Unnamed: 0_y', axis=1, inplace=True)\n",
    "finalMatch.drop('Unnamed: 0_x', axis=1, inplace=True)"
   ]
  },
  {
   "cell_type": "code",
   "execution_count": null,
   "metadata": {
    "collapsed": false
   },
   "outputs": [],
   "source": [
    "#rename the columns\n",
    "finalMatch.columns = [\"Season\", \"Date\", \"Home_Team_ID\",\"Away_Team_ID\",\"Home_Goals\",\"Away_Goals\",\"home_player_1\",\"home_player_2\",\"home_player_3\",\n",
    "                      \"home_player_4\",\"home_player_5\",\"home_player_6\",\"home_player_7\",\"home_player_8\",\"home_player_9\",\"home_player_10\",\"home_player_11\",\n",
    "                      \"away_player_1\",\"away_player_2\",\"away_player_3\",\"away_player_4\",\"away_player_5\",\"away_player_6\",\"away_player_7\",\"away_player_8\",\n",
    "                      \"away_player_9\",\"away_player_10\",\"away_player_11\",\"HomeTeamRating\",\"AwayTeamRating\",\"HomeShortPass\",\"AwayShortPass\",\"HomeLongPass\",\n",
    "                      \"AwayLongPass\",\"HomeFreeKickAccuracy\",\"AwayFreeKickAccuracy\",\"HomeBallControl\",\"AwayBallControl\",\"HomeSprintSpeed\",\n",
    "                      \"AwaySprintSpeed\",\"HomeShotPower\",\"AwayShotPower\",\"HomeInterception\",\"AwayInterception\",\"HomePenalties\",\"AwayPenalties\",\n",
    "                      \"HomeStandingTackle\",\"AwayStandingTackle\",\"HomeSlindingTackle\",\"AwaySlindingTackle\",\"Home Support\",\"Away Support\",\"Home Age\", \n",
    "                      \"Away Age\",\n",
    "                      \"Outcome\",\"HomeTeamWins_Home\",\"HomeTeamWins_Away\",\"AwayTeamWins_Home\",\"AwayTeamWins_Away\",\"HomeVsAway_Home\",\"HomeVsAway_Away\",\n",
    "                      \"HomebuildUpPlaySpeed\",\"HomebuildUpPlayDribbling\",\"HomebuildUpPlayPassing\",\"HomechanceCreationPassing\",\n",
    "                      \"HomechanceCreationCrossing\",\"HomechanceCreationShooting\",\"HomedefencePressure\",\"HomedefenceAggression\",\n",
    "                      \"HomedefenceTeamWidth\",\"AwaybuildUpPlaySpeed\",\"AwaybuildUpPlayDribbling\",\"AwaybuildUpPlayPassing\",\"AwaychanceCreationPassing\",\n",
    "                      \"AwaychanceCreationCrossing\",\"AwaychanceCreationShooting\",\"AwaydefencePressure\",\"AwaydefenceAggression\",\"AwaydefenceTeamWidth\"]\n"
   ]
  },
  {
   "cell_type": "code",
   "execution_count": null,
   "metadata": {
    "collapsed": true
   },
   "outputs": [],
   "source": [
    "#make the outcome column the last one\n",
    "finalMatch.insert(len(finalMatch.columns),'Outcome1', match['Outcome'])\n",
    "finalMatch.drop('Outcome', axis = 1, inplace = True)\n",
    "finalMatch.rename(columns = {'Outcome1':'Outcome'}, inplace = True)\n"
   ]
  },
  {
   "cell_type": "code",
   "execution_count": null,
   "metadata": {
    "collapsed": false
   },
   "outputs": [],
   "source": [
    "finalMatch.to_csv(\"DataSetForClassification.csv\")"
   ]
  },
  {
   "cell_type": "code",
   "execution_count": null,
   "metadata": {
    "collapsed": true
   },
   "outputs": [],
   "source": []
  }
 ],
 "metadata": {
  "anaconda-cloud": {},
  "kernelspec": {
   "display_name": "Python [conda root]",
   "language": "python",
   "name": "conda-root-py"
  },
  "language_info": {
   "codemirror_mode": {
    "name": "ipython",
    "version": 3
   },
   "file_extension": ".py",
   "mimetype": "text/x-python",
   "name": "python",
   "nbconvert_exporter": "python",
   "pygments_lexer": "ipython3",
   "version": "3.5.2"
  },
  "nbpresent": {
   "slides": {
    "abefdd6f-4489-41f6-83d6-d7f70ad6fcd8": {
     "id": "abefdd6f-4489-41f6-83d6-d7f70ad6fcd8",
     "layout": "grid",
     "prev": null,
     "regions": {
      "00ada303-dcc5-47fc-828d-497d9aec5b75": {
       "attrs": {
        "height": 1,
        "pad": 0.01,
        "treemap:weight": 1,
        "width": 1,
        "x": 0,
        "y": 0
       },
       "id": "00ada303-dcc5-47fc-828d-497d9aec5b75"
      }
     }
    }
   },
   "themes": {}
  }
 },
 "nbformat": 4,
 "nbformat_minor": 0
}
